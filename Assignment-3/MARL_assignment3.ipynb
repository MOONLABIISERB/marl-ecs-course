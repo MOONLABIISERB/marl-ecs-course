{
  "nbformat": 4,
  "nbformat_minor": 0,
  "metadata": {
    "colab": {
      "provenance": []
    },
    "kernelspec": {
      "name": "python3",
      "display_name": "Python 3"
    },
    "language_info": {
      "name": "python"
    }
  },
  "cells": [
    {
      "cell_type": "markdown",
      "source": [
        "# Environment"
      ],
      "metadata": {
        "id": "h-hj2vfEdzzc"
      }
    },
    {
      "cell_type": "code",
      "source": [
        "import matplotlib.pyplot as plt\n",
        "import matplotlib.patches as patches\n",
        "import random\n",
        "import numpy as np\n",
        "from collections import defaultdict\n",
        "\n",
        "ACTIONS = [(0, 0), (-1, 0), (1, 0), (0, -1), (0, 1)]\n",
        "ACTION_NAMES = ['Stay', 'Up', 'Down', 'Left', 'Right']\n",
        "NUM_ACTIONS = len(ACTIONS)\n",
        "GAMMA = 0.9\n",
        "ALPHA = 0.1\n",
        "EPSILON = 0.2\n",
        "MAX_EPISODES = 500\n",
        "\n",
        "maze_size = 10\n",
        "maze = np.zeros((maze_size, maze_size), dtype=int)\n",
        "\n",
        "walls = [\n",
        "    (0, 4), (1, 4), (2, 4), (2, 5), (4, 0),\n",
        "    (4, 1), (4, 2), (5, 2), (9, 5), (8, 5),\n",
        "    (7, 5), (7, 4), (4, 9), (4, 8), (4, 7), (5, 7)\n",
        "]\n",
        "for wall in walls:\n",
        "    maze[wall] = 1\n",
        "\n",
        "destinations = [(5, 8), (1, 5), (5, 1), (8, 4)]\n",
        "agent_colors = ['green', 'blue', 'yellow', 'purple']\n",
        "\n",
        "#for now the starting points are fixed for the agent\n",
        "agents = [(1, 1), (8, 1), (8, 8), (1, 8)]\n",
        "\n",
        "class MultiAgentMazeMinMax:\n",
        "    def __init__(self, maze, agents, destinations):\n",
        "        self.maze = maze\n",
        "        self.agents = agents\n",
        "        self.destinations = destinations\n",
        "        self.num_agents = len(agents)\n",
        "        self.state = tuple(agents)\n",
        "        self.steps_taken = [0] * self.num_agents\n",
        "\n",
        "    def is_valid_position(self, pos):\n",
        "        x, y = pos\n",
        "        return 0 <= x < maze_size and 0 <= y < maze_size and self.maze[x, y] != 1\n",
        "\n",
        "    def reset(self):\n",
        "        self.state = tuple(agents)\n",
        "        self.steps_taken = [0] * self.num_agents\n",
        "        return self.state\n",
        "\n",
        "    def step(self, actions):\n",
        "        proposed_positions = []\n",
        "        rewards = []\n",
        "        collisions = set()\n",
        "\n",
        "        for i, action in enumerate(actions):\n",
        "            current_pos = self.state[i]\n",
        "            move = ACTIONS[action]\n",
        "            new_pos = (current_pos[0] + move[0], current_pos[1] + move[1])\n",
        "\n",
        "            if not self.is_valid_position(new_pos) or new_pos in self.state:\n",
        "                new_pos = current_pos\n",
        "            proposed_positions.append(new_pos)\n",
        "\n",
        "        final_positions = list(self.state)\n",
        "        for i, new_pos in enumerate(proposed_positions):\n",
        "            if proposed_positions.count(new_pos) > 1:\n",
        "                collisions.add(new_pos)\n",
        "                final_positions[i] = self.state[i]\n",
        "            else:\n",
        "                final_positions[i] = new_pos\n",
        "\n",
        "        next_state = tuple(final_positions)\n",
        "        for i, new_pos in enumerate(next_state):\n",
        "            if new_pos == self.destinations[i]:\n",
        "                reward = 10\n",
        "            elif new_pos in collisions:\n",
        "                reward = -10\n",
        "            else:\n",
        "                reward = -1\n",
        "            rewards.append(reward)\n",
        "\n",
        "        self.state = next_state\n",
        "        done = all(next_state[i] == self.destinations[i] for i in range(self.num_agents))\n",
        "        for i in range(self.num_agents):\n",
        "            self.steps_taken[i] += 1\n",
        "\n",
        "        max_time = max(self.steps_taken)\n",
        "        return self.state, rewards, done, max_time"
      ],
      "metadata": {
        "id": "n-M5twq9cmFz"
      },
      "execution_count": 14,
      "outputs": []
    },
    {
      "cell_type": "markdown",
      "source": [
        "# Q-Learning Model"
      ],
      "metadata": {
        "id": "kN5d-oUxeFn-"
      }
    },
    {
      "cell_type": "code",
      "source": [
        "#using q-learing in this setup\n",
        "def train_agents_minmax(maze_env):\n",
        "    q_tables = [defaultdict(lambda: np.zeros(NUM_ACTIONS)) for _ in range(maze_env.num_agents)]\n",
        "    min_max_time = float('inf')\n",
        "\n",
        "    for episode in range(MAX_EPISODES):\n",
        "        state = maze_env.reset()\n",
        "        done = False\n",
        "\n",
        "        while not done:\n",
        "            actions = []\n",
        "            for i in range(maze_env.num_agents):\n",
        "                if np.random.rand() < EPSILON:\n",
        "                    action = np.random.choice(NUM_ACTIONS)\n",
        "                else:\n",
        "                    action = np.argmax(q_tables[i][state[i]])\n",
        "                actions.append(action)\n",
        "\n",
        "            next_state, rewards, done, max_time = maze_env.step(actions)\n",
        "\n",
        "            for i in range(maze_env.num_agents):\n",
        "                current_q = q_tables[i][state[i]][actions[i]]\n",
        "                next_max_q = np.max(q_tables[i][next_state[i]])\n",
        "                q_tables[i][state[i]][actions[i]] = current_q + ALPHA * (\n",
        "                    rewards[i] + GAMMA * next_max_q - current_q\n",
        "                )\n",
        "\n",
        "            state = next_state\n",
        "\n",
        "        min_max_time = min(min_max_time, max_time)\n",
        "\n",
        "    return q_tables, min_max_time\n"
      ],
      "metadata": {
        "id": "GjgScD3peE6Z"
      },
      "execution_count": 15,
      "outputs": []
    },
    {
      "cell_type": "markdown",
      "source": [
        "# Getting the Optimal path"
      ],
      "metadata": {
        "id": "K3vEQdlmeNRt"
      }
    },
    {
      "cell_type": "code",
      "source": [
        "def get_optimal_paths(maze_env, q_tables):\n",
        "    optimal_paths = []\n",
        "    for i in range(maze_env.num_agents):\n",
        "        state = agents[i]\n",
        "        path = [state]\n",
        "\n",
        "        while state != destinations[i]:\n",
        "            action = np.argmax(q_tables[i][state])\n",
        "            move = ACTIONS[action]\n",
        "            next_state = (state[0] + move[0], state[1] + move[1])\n",
        "\n",
        "            if not maze_env.is_valid_position(next_state):\n",
        "                break\n",
        "\n",
        "            path.append(next_state)\n",
        "            state = next_state\n",
        "\n",
        "        optimal_paths.append(path)\n",
        "    return optimal_paths"
      ],
      "metadata": {
        "id": "1r1ism6QeMnj"
      },
      "execution_count": 16,
      "outputs": []
    },
    {
      "cell_type": "markdown",
      "source": [
        "# Visualisating the Path"
      ],
      "metadata": {
        "id": "xaDVd-34ewN9"
      }
    },
    {
      "cell_type": "code",
      "source": [
        "def plot_maze_with_paths(maze, agents, destinations, paths):\n",
        "    fig, ax = plt.subplots(figsize=(8, 8))\n",
        "    ax.set_xlim(0, maze_size)\n",
        "    ax.set_ylim(0, maze_size)\n",
        "\n",
        "    for x in range(maze_size):\n",
        "        for y in range(maze_size):\n",
        "            if maze[x, y] == 1:\n",
        "                ax.add_patch(patches.Rectangle((y, maze_size - x - 1), 1, 1, color='gray'))\n",
        "\n",
        "    for agent_index, (x, y) in enumerate(agents):\n",
        "        color = agent_colors[agent_index]\n",
        "        ax.add_patch(patches.Rectangle((y, maze_size - x - 1), 1, 1, color=color, alpha=0.5))\n",
        "\n",
        "    for dest_index, (x, y) in enumerate(destinations):\n",
        "        color = agent_colors[dest_index]\n",
        "        ax.plot(\n",
        "            y + 0.5, maze_size - x - 1 + 0.5,\n",
        "            marker='+', color=color, markersize=20, markeredgewidth=3\n",
        "        )\n",
        "\n",
        "    for agent_index, path in enumerate(paths):\n",
        "        color = agent_colors[agent_index]\n",
        "        for j in range(1, len(path)):\n",
        "            x1, y1 = path[j - 1]\n",
        "            x2, y2 = path[j]\n",
        "            ax.plot(\n",
        "                [y1 + 0.5, y2 + 0.5],\n",
        "                [maze_size - x1 - 1 + 0.5, maze_size - x2 - 1 + 0.5],\n",
        "                color=color, linewidth=2, linestyle='--'\n",
        "            )\n",
        "\n",
        "    for i in range(maze_size + 1):\n",
        "        ax.plot([0, maze_size], [i, i], color='black', linewidth=0.5)\n",
        "        ax.plot([i, i], [0, maze_size], color='black', linewidth=0.5)\n",
        "\n",
        "    ax.set_aspect('equal')\n",
        "    ax.axis('off')\n",
        "    plt.title(\"Grid World Environment with Optimal Paths\", fontsize=16)\n"
      ],
      "metadata": {
        "id": "Rc4el17XeUu2"
      },
      "execution_count": 17,
      "outputs": []
    },
    {
      "cell_type": "markdown",
      "source": [
        "# Main"
      ],
      "metadata": {
        "id": "r0JNCkdte531"
      }
    },
    {
      "cell_type": "code",
      "source": [
        "if __name__ == \"__main__\":\n",
        "    env = MultiAgentMazeMinMax(maze, agents, destinations)\n",
        "\n",
        "    q_tables, min_max_time = train_agents_minmax(env)\n",
        "    print(f\"Training completed! Minimum maximum time taken by any agent: {min_max_time}\")\n",
        "    Agents = ['Green', 'Blue', 'Yellow', 'Purple']\n",
        "    paths = get_optimal_paths(env, q_tables)\n",
        "    print(\"Optimal paths for agents:\")\n",
        "    for i, path in enumerate(paths):\n",
        "        print(f\"{Agents[i]}: {path}\")\n",
        "\n",
        "    plot_maze_with_paths(maze, agents, destinations, paths)\n",
        "    plt.show()\n"
      ],
      "metadata": {
        "colab": {
          "base_uri": "https://localhost:8080/",
          "height": 781
        },
        "id": "jNKNLes8e3MM",
        "outputId": "0358936c-cf99-4933-ec83-00c6f5bb26d4"
      },
      "execution_count": 20,
      "outputs": [
        {
          "output_type": "stream",
          "name": "stdout",
          "text": [
            "Training completed! Minimum maximum time taken by any agent: 14\n",
            "Optimal paths for agents:\n",
            "Green: [(1, 1), (2, 1), (2, 2), (2, 3), (3, 3), (4, 3), (4, 4), (4, 5), (4, 6), (5, 6), (6, 6), (6, 7), (6, 8), (5, 8)]\n",
            "Blue: [(8, 1), (7, 1), (7, 2), (7, 3), (6, 3), (5, 3), (5, 4), (4, 4), (4, 5), (3, 5), (3, 6), (2, 6), (1, 6), (1, 5)]\n",
            "Yellow: [(8, 8), (7, 8), (7, 7), (6, 7), (6, 6), (6, 5), (6, 4), (6, 3), (6, 2), (6, 1), (5, 1)]\n",
            "Purple: [(1, 8), (2, 8), (2, 7), (3, 7), (3, 6), (4, 6), (5, 6), (5, 5), (6, 5), (6, 4), (6, 3), (7, 3), (8, 3), (8, 4)]\n"
          ]
        },
        {
          "output_type": "display_data",
          "data": {
            "text/plain": [
              "<Figure size 800x800 with 1 Axes>"
            ],
            "image/png": "[encoded data removed]"
          },
          "metadata": {}
        }
      ]
    },
    {
      "cell_type": "markdown",
      "source": [
        "# Randomising the Agent starting points (Bonus Question)"
      ],
      "metadata": {
        "id": "Lzi041hKgDkG"
      }
    },
    {
      "cell_type": "code",
      "source": [
        "def random_agent_positions(num_agents, maze, destinations):\n",
        "    positions = []\n",
        "    while len(positions) < num_agents:\n",
        "        pos = (random.randint(0, maze_size - 1), random.randint(0, maze_size - 1))\n",
        "        if pos not in positions and pos not in walls and pos not in destinations:\n",
        "            positions.append(pos)\n",
        "    return positions\n",
        "\n",
        "agents = random_agent_positions(len(destinations), maze, destinations)"
      ],
      "metadata": {
        "id": "aYjVPaiUe-OI"
      },
      "execution_count": 27,
      "outputs": []
    },
    {
      "cell_type": "code",
      "source": [
        "if __name__ == \"__main__\":\n",
        "    env = MultiAgentMazeMinMax(maze, agents, destinations)\n",
        "\n",
        "    q_tables, min_max_time = train_agents_minmax(env)\n",
        "    print(f\"Training completed! Minimum maximum time taken by any agent: {min_max_time}\")\n",
        "    Agents = ['Green', 'Blue', 'Yellow', 'Purple']\n",
        "    paths = get_optimal_paths(env, q_tables)\n",
        "    print(\"Optimal paths for agents:\")\n",
        "    for i, path in enumerate(paths):\n",
        "        print(f\"{Agents[i]}: {path}\")\n",
        "\n",
        "    plot_maze_with_paths(maze, agents, destinations, paths)\n",
        "    plt.show()"
      ],
      "metadata": {
        "colab": {
          "base_uri": "https://localhost:8080/",
          "height": 781
        },
        "id": "b1tqUTP2ghcA",
        "outputId": "3d8782b3-f487-4378-c8ee-25a3e5d97088"
      },
      "execution_count": 28,
      "outputs": [
        {
          "output_type": "stream",
          "name": "stdout",
          "text": [
            "Training completed! Minimum maximum time taken by any agent: 12\n",
            "Optimal paths for agents:\n",
            "Green: [(0, 9), (1, 9), (2, 9), (2, 8), (2, 7), (3, 7), (3, 6), (4, 6), (5, 6), (6, 6), (6, 7), (6, 8), (5, 8)]\n",
            "Blue: [(3, 2), (3, 3), (3, 4), (3, 5), (3, 6), (2, 6), (1, 6), (1, 5)]\n",
            "Yellow: [(6, 9), (6, 8), (6, 7), (6, 6), (6, 5), (6, 4), (6, 3), (6, 2), (6, 1), (5, 1)]\n",
            "Purple: [(9, 9), (9, 8), (8, 8), (8, 7), (7, 7), (6, 7), (6, 6), (6, 5), (6, 4), (6, 3), (7, 3), (8, 3), (8, 4)]\n"
          ]
        },
        {
          "output_type": "display_data",
          "data": {
            "text/plain": [
              "<Figure size 800x800 with 1 Axes>"
            ],
            "image/png": "[encoded data removed]"
          },
          "metadata": {}
        }
      ]
    },
    {
      "cell_type": "code",
      "source": [],
      "metadata": {
        "id": "P4HKRzApgj5E"
      },
      "execution_count": null,
      "outputs": []
    }
  ]
}