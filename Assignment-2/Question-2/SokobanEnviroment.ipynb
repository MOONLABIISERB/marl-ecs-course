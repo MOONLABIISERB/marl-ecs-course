{
  "nbformat": 4,
  "nbformat_minor": 0,
  "metadata": {
    "colab": {
      "provenance": []
    },
    "kernelspec": {
      "name": "python3",
      "display_name": "Python 3"
    },
    "language_info": {
      "name": "python"
    }
  },
  "cells": [
    {
      "cell_type": "code",
      "execution_count": 2,
      "metadata": {
        "colab": {
          "base_uri": "https://localhost:8080/"
        },
        "id": "_Uv-UnLb-sfr",
        "outputId": "efe3263e-3ba0-4eef-b3bb-728b1a5a7377"
      },
      "outputs": [
        {
          "output_type": "stream",
          "name": "stdout",
          "text": [
            "Collecting gymnasium\n",
            "  Downloading gymnasium-0.29.1-py3-none-any.whl.metadata (10 kB)\n",
            "Requirement already satisfied: numpy>=1.21.0 in /usr/local/lib/python3.10/dist-packages (from gymnasium) (1.26.4)\n",
            "Requirement already satisfied: cloudpickle>=1.2.0 in /usr/local/lib/python3.10/dist-packages (from gymnasium) (2.2.1)\n",
            "Requirement already satisfied: typing-extensions>=4.3.0 in /usr/local/lib/python3.10/dist-packages (from gymnasium) (4.12.2)\n",
            "Collecting farama-notifications>=0.0.1 (from gymnasium)\n",
            "  Downloading Farama_Notifications-0.0.4-py3-none-any.whl.metadata (558 bytes)\n",
            "Downloading gymnasium-0.29.1-py3-none-any.whl (953 kB)\n",
            "\u001b[2K   \u001b[90m━━━━━━━━━━━━━━━━━━━━━━━━━━━━━━━━━━━━━━━━\u001b[0m \u001b[32m953.9/953.9 kB\u001b[0m \u001b[31m12.3 MB/s\u001b[0m eta \u001b[36m0:00:00\u001b[0m\n",
            "\u001b[?25hDownloading Farama_Notifications-0.0.4-py3-none-any.whl (2.5 kB)\n",
            "Installing collected packages: farama-notifications, gymnasium\n",
            "Successfully installed farama-notifications-0.0.4 gymnasium-0.29.1\n"
          ]
        }
      ],
      "source": [
        "pip install gymnasium"
      ]
    },
    {
      "cell_type": "code",
      "source": [],
      "metadata": {
        "id": "kEiKkJtBAg49"
      },
      "execution_count": null,
      "outputs": []
    },
    {
      "cell_type": "code",
      "execution_count": 15,
      "metadata": {
        "colab": {
          "base_uri": "https://localhost:8080/",
          "height": 406
        },
        "outputId": "f782d700-b913-4461-a843-fdef80bcfb87",
        "id": "BXqAJ4IlAi3u"
      },
      "outputs": [
        {
          "output_type": "display_data",
          "data": {
            "text/plain": [
              "<Figure size 640x480 with 1 Axes>"
            ],
            "image/png": "[encoded data removed]"
          },
          "metadata": {}
        }
      ],
      "source": [
        "import numpy as np\n",
        "import matplotlib.pyplot as plt\n",
        "from matplotlib.patches import Circle, Rectangle, Polygon\n",
        "\n",
        "class SokobanEnvironment:\n",
        "    def __init__(self):\n",
        "        self.grid = [\n",
        "            [1, 1, 1, 1, 1, 1],\n",
        "            [1, 0, 0, 1, 1, 1],\n",
        "            [1, 0, 0, 1, 1, 1],\n",
        "            [1, 3, 0, 0, 0, 1],\n",
        "            [1, 0, 0, 2, 0, 1],\n",
        "            [1, 0, 0, 1, 1, 1],\n",
        "            [1, 1, 1, 1, 1, 1],\n",
        "        ]\n",
        "        self.agent_position = (1, 2)\n",
        "        self.box_positions = [(4, 3)]\n",
        "        self.storage_positions = [(3, 1)]\n",
        "        self.actions = {\n",
        "            \"UP\": (-1, 0),\n",
        "            \"DOWN\": (1, 0),\n",
        "            \"LEFT\": (0, -1),\n",
        "            \"RIGHT\": (0, 1)\n",
        "        }\n",
        "        self.done = False\n",
        "\n",
        "    def display_grid(self):\n",
        "        \"\"\"Graphical display of the grid with a new color scheme and shapes.\"\"\"\n",
        "        fig, ax = plt.subplots()\n",
        "\n",
        "        for row in range(len(self.grid)):\n",
        "            for col in range(len(self.grid[row])):\n",
        "                if self.grid[row][col] == 1:\n",
        "                    ax.add_patch(Rectangle((col, row), 1, 1, edgecolor='black', facecolor='lightgray'))\n",
        "                elif (row, col) == self.agent_position:t\n",
        "                    ax.add_patch(Circle((col + 0.5, row + 0.5), 0.4, edgecolor='black', facecolor='green'))\n",
        "                elif (row, col) in self.box_positions:\n",
        "                    ax.add_patch(Rectangle((col, row), 1, 1, edgecolor='black', facecolor='purple'))\n",
        "                    ax.plot([col, col + 1], [row, row + 1], color='white')\n",
        "                    ax.plot([col, col + 1], [row + 1, row], color='white')\n",
        "                elif (row, col) in self.storage_positions:\n",
        "                    diamond = Polygon([[col + 0.5, row], [col + 1, row + 0.5], [col + 0.5, row + 1], [col, row + 0.5]],\n",
        "                                      edgecolor='black', facecolor='cyan')\n",
        "                    ax.add_patch(diamond)\n",
        "                else:\n",
        "                    ax.add_patch(Rectangle((col, row), 1, 1, edgecolor='black', facecolor='beige'))\n",
        "\n",
        "        ax.set_xlim(0, len(self.grid[0]))\n",
        "        ax.set_ylim(0, len(self.grid))\n",
        "        ax.set_aspect('equal')\n",
        "        plt.gca().invert_yaxis()  # Keeping the origin at the top-left for visual consistency\n",
        "        plt.axis('off')  # Removing axes for a cleaner look\n",
        "        plt.show()\n",
        "\n",
        "    def reset(self):\n",
        "        self.agent_position = (1, 2)\n",
        "        self.box_positions = [(4, 3)]\n",
        "        self.done = False\n",
        "\n",
        "if __name__ == \"__main__\":\n",
        "    env = SokobanEnvironment()\n",
        "    env.display_grid()"
      ]
    },
    {
      "cell_type": "code",
      "source": [],
      "metadata": {
        "id": "ZYbQVbxWAkdB"
      },
      "execution_count": null,
      "outputs": []
    }
  ]
}