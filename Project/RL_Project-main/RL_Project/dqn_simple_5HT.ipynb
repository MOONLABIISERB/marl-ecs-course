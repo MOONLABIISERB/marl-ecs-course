{
 "cells": [
  {
   "cell_type": "markdown",
   "id": "d628c23d",
   "metadata": {},
   "source": [
    "Import statements"
   ]
  },
  {
   "cell_type": "code",
   "execution_count": 69,
   "id": "0b9fe8af",
   "metadata": {},
   "outputs": [],
   "source": [
    "import json\n",
    "import os\n",
    "\n",
    "import numpy as np\n",
    "\n",
    "import matplotlib\n",
    "import matplotlib.pyplot as plt\n",
    "from matplotlib import rc\n",
    "matplotlib.rcParams.update(matplotlib.rcParamsDefault)\n",
    "%matplotlib inline"
   ]
  },
  {
   "cell_type": "code",
   "execution_count": 70,
   "id": "761fd1ef",
   "metadata": {},
   "outputs": [],
   "source": [
    "from tensorflow.keras.models import Sequential\n",
    "from tensorflow.keras.layers import Dense, Flatten\n",
    "from tensorflow.keras.optimizers.legacy import Adam, SGD\n",
    "from learning import *"
   ]
  },
  {
   "cell_type": "code",
   "execution_count": 71,
   "id": "9f09c161",
   "metadata": {},
   "outputs": [],
   "source": [
    "from rl.agents import DQNAgent\n",
    "from rl.policy import BoltzmannQPolicy, EpsGreedyQPolicy\n",
    "from rl.memory import SequentialMemory  # For experience replay!"
   ]
  },
  {
   "cell_type": "code",
   "execution_count": 72,
   "id": "0c9f747a",
   "metadata": {},
   "outputs": [],
   "source": [
    "from gym_environment_ncml import *\n",
    "from learning import *"
   ]
  },
  {
   "cell_type": "markdown",
   "id": "d3a0674c",
   "metadata": {},
   "source": [
    "Useful numbers"
   ]
  },
  {
   "cell_type": "code",
   "execution_count": 73,
   "id": "4cf11480",
   "metadata": {},
   "outputs": [],
   "source": [
    "MILLION = 1000000\n",
    "HTHOUSAND = 100000\n",
    "THOUSAND = 1000"
   ]
  },
  {
   "cell_type": "markdown",
   "id": "edfb0b18",
   "metadata": {},
   "source": [
    "## 1. Create environment ##"
   ]
  },
  {
   "cell_type": "code",
   "execution_count": 74,
   "id": "9b9a3f4c",
   "metadata": {},
   "outputs": [
    {
     "name": "stderr",
     "output_type": "stream",
     "text": [
      "c:\\Users\\ANT-PC\\.conda\\envs\\RL\\lib\\site-packages\\gym\\spaces\\box.py:74: UserWarning: \u001b[33mWARN: Box bound precision lowered by casting to float32\u001b[0m\n",
      "  \"Box bound precision lowered by casting to {}\".format(self.dtype)\n"
     ]
    }
   ],
   "source": [
    "env = GridworldMultiAgentv25()"
   ]
  },
  {
   "cell_type": "code",
   "execution_count": 75,
   "id": "708f7943",
   "metadata": {},
   "outputs": [],
   "source": [
    "states = env.observation_space.shape[0]\n",
    "actions = env.action_space.n"
   ]
  },
  {
   "cell_type": "code",
   "execution_count": 76,
   "id": "eca1527b",
   "metadata": {},
   "outputs": [
    {
     "data": {
      "text/plain": [
       "(10, 25)"
      ]
     },
     "execution_count": 76,
     "metadata": {},
     "output_type": "execute_result"
    }
   ],
   "source": [
    "states, actions"
   ]
  },
  {
   "cell_type": "markdown",
   "id": "0343c79a",
   "metadata": {},
   "source": [
    "## 2. Create a Deep Learning Model with Keras ##"
   ]
  },
  {
   "cell_type": "code",
   "execution_count": 77,
   "id": "05cae5c1",
   "metadata": {},
   "outputs": [],
   "source": [
    "def build_model1(states, actions, h_nodes, h_act):\n",
    "    model = Sequential()\n",
    "    model.add(Flatten(input_shape=(1, states)))\n",
    "    for n, a in zip(h_nodes, h_act):\n",
    "        model.add(Dense(n, activation=a))\n",
    "    model.add(Dense(actions, activation='linear'))\n",
    "    return model\n"
   ]
  },
  {
   "cell_type": "code",
   "execution_count": 78,
   "id": "941ff796",
   "metadata": {},
   "outputs": [],
   "source": [
    "model = build_model1(states, actions, [32, 16], ['relu', 'relu'])"
   ]
  },
  {
   "cell_type": "code",
   "execution_count": 79,
   "id": "6f136bc9",
   "metadata": {},
   "outputs": [
    {
     "name": "stdout",
     "output_type": "stream",
     "text": [
      "Model: \"sequential_4\"\n",
      "_________________________________________________________________\n",
      " Layer (type)                Output Shape              Param #   \n",
      "=================================================================\n",
      " flatten_4 (Flatten)         (None, 10)                0         \n",
      "                                                                 \n",
      " dense_16 (Dense)            (None, 32)                352       \n",
      "                                                                 \n",
      " dense_17 (Dense)            (None, 16)                528       \n",
      "                                                                 \n",
      " dense_18 (Dense)            (None, 25)                425       \n",
      "                                                                 \n",
      "=================================================================\n",
      "Total params: 1,305\n",
      "Trainable params: 1,305\n",
      "Non-trainable params: 0\n",
      "_________________________________________________________________\n"
     ]
    }
   ],
   "source": [
    "model.summary()"
   ]
  },
  {
   "cell_type": "markdown",
   "id": "6d0b28d2",
   "metadata": {},
   "source": [
    "## 3. Build Agent with Keras-RL ##"
   ]
  },
  {
   "cell_type": "code",
   "execution_count": 80,
   "id": "936f9bef",
   "metadata": {},
   "outputs": [],
   "source": [
    "def plot_training_metrics(name):\n",
    "    \"\"\"\n",
    "    Visualize training metrics (rewards) for a given agent\n",
    "    \n",
    "    Parameters:\n",
    "    -----------\n",
    "    name : str\n",
    "        Name of the agent/training run\n",
    "    \"\"\"\n",
    "    # Load training data\n",
    "    with open(f'agents/{name}/{name}_training.json', 'r') as f:\n",
    "        data = json.load(f)\n",
    "    \n",
    "    # Create a figure with two subplots\n",
    "    # plt.figure(figsize=(15, 10))\n",
    "    \n",
    "    # Rewards plot\n",
    "    plt.plot(data['episode_reward'], label='Episode Reward', color='blue', alpha=0.7)\n",
    "    plt.title(f'Training Rewards for {name}')\n",
    "    plt.xlabel('Training Steps')\n",
    "    plt.ylabel('Reward')\n",
    "    plt.legend()\n",
    "    \n",
    "    # Optional: Add moving average for smoother visualization\n",
    "    window_size = 100\n",
    "    if len(data['episode_reward']) > window_size:\n",
    "        rewards_ma = np.convolve(data['episode_reward'], np.ones(window_size)/window_size, mode='valid')\n",
    "        plt.plot(np.arange(window_size-1, len(data['episode_reward'])), \n",
    "                 rewards_ma, label=f'{window_size}-Step Moving Average', color='red', linewidth=2)\n",
    "        plt.legend()\n",
    "    \n",
    "    # # Loss plot\n",
    "    # plt.subplot(2, 1, 2)\n",
    "    # plt.plot(data['loss'], label='Training Loss', color='green', alpha=0.7)\n",
    "    # plt.title(f'Training Loss for {name}')\n",
    "    # plt.xlabel('Training Steps')\n",
    "    # plt.ylabel('Loss')\n",
    "    # plt.legend()\n",
    "    \n",
    "    # Adjust layout and save\n",
    "    # plt.tight_layout()\n",
    "    plt.savefig(f'agents/{name}/training_metrics_plot.png', dpi=300)\n",
    "    # plt.close()\n",
    "\n",
    "    # Optional: Print some basic statistics\n",
    "    print(f\"Reward Statistics for {name}:\")\n",
    "    print(f\"Mean Reward: {np.mean(data['episode_reward']):.2f}\")\n",
    "    print(f\"Max Reward: {np.max(data['episode_reward']):.2f}\")\n",
    "    print(f\"Min Reward: {np.min(data['episode_reward']):.2f}\")\n"
   ]
  },
  {
   "cell_type": "code",
   "execution_count": 81,
   "id": "1a418e6f",
   "metadata": {},
   "outputs": [
    {
     "name": "stderr",
     "output_type": "stream",
     "text": [
      "c:\\Users\\ANT-PC\\.conda\\envs\\RL\\lib\\site-packages\\keras\\optimizers\\optimizer_v2\\adam.py:117: UserWarning: The `lr` argument is deprecated, use `learning_rate` instead.\n",
      "  super().__init__(name, **kwargs)\n"
     ]
    }
   ],
   "source": [
    "dqn = build_agent(model, actions, 0.01, EpsGreedyQPolicy(), 50000)\n",
    "dqn.compile(Adam(lr=1e-3), metrics=['mae'])\n",
    "# dqn.compile(Adam(lr=1e-2), metrics=['mse'])"
   ]
  },
  {
   "cell_type": "code",
   "execution_count": 82,
   "id": "92c1507e",
   "metadata": {},
   "outputs": [],
   "source": [
    "# name = 'dqn25_5b5_3216_adam_lr0.001_tmu0.01_ml50K_ns5M_eps0.1_a6_b0'\n",
    "name = 'DQN_simple_5HT1'"
   ]
  },
  {
   "cell_type": "code",
   "execution_count": 83,
   "id": "120f3b72",
   "metadata": {},
   "outputs": [],
   "source": [
    "from rl.callbacks import Callback\n",
    "import numpy as np\n",
    "\n",
    "class LossLoggingCallback(Callback):\n",
    "    def __init__(self):\n",
    "        super().__init__()\n",
    "        self.episode_losses = []\n",
    "        self.total_losses = []\n",
    "    \n",
    "    def on_episode_begin(self, episode, logs=None):\n",
    "        # Reset episode losses at the start of each episode\n",
    "        self.episode_losses = []\n",
    "    \n",
    "    def on_step_end(self, step, logs=None):\n",
    "        # Capture loss at each step\n",
    "        if logs is not None and 'loss' in logs:\n",
    "            self.total_losses.append(logs['loss'])\n",
    "            self.episode_losses.append(logs['loss'])\n",
    "    \n",
    "    def on_episode_end(self, episode, logs=None):\n",
    "        # Compute and store mean loss for the episode if there are any losses\n",
    "        if self.episode_losses:\n",
    "            mean_episode_loss = np.mean(self.episode_losses)\n",
    "            # You can print or log this if needed\n",
    "            print(f\"Episode {episode} Mean Loss: {mean_episode_loss}\")\n",
    "\n"
   ]
  },
  {
   "cell_type": "code",
   "execution_count": 84,
   "id": "93d1733f",
   "metadata": {},
   "outputs": [
    {
     "name": "stdout",
     "output_type": "stream",
     "text": [
      "Training for 50000 steps ...\n",
      "Interval 1 (0 steps performed)\n",
      "    1/10000 [..............................] - ETA: 30:39 - reward: -1.0000"
     ]
    },
    {
     "name": "stderr",
     "output_type": "stream",
     "text": [
      "c:\\Users\\ANT-PC\\.conda\\envs\\RL\\lib\\site-packages\\keras\\engine\\training_v1.py:2357: UserWarning: `Model.state_updates` will be removed in a future version. This property should not be used in TensorFlow 2.0, as `updates` are applied automatically.\n",
      "  updates=self.state_updates,\n"
     ]
    },
    {
     "name": "stdout",
     "output_type": "stream",
     "text": [
      "10000/10000 [==============================] - 33s 3ms/step - reward: -0.4000\n",
      "200 episodes - episode_reward: -20.000 [-66.000, 94.000] - loss: 2.011 - mae: 2.742 - mean_q: -0.977\n",
      "\n",
      "Interval 2 (10000 steps performed)\n",
      "10000/10000 [==============================] - 32s 3ms/step - reward: -0.1880\n",
      "200 episodes - episode_reward: -9.400 [-52.000, 104.000] - loss: 4.728 - mae: 10.134 - mean_q: 11.679\n",
      "\n",
      "Interval 3 (20000 steps performed)\n",
      "10000/10000 [==============================] - 33s 3ms/step - reward: 0.0922\n",
      "200 episodes - episode_reward: 4.610 [-52.000, 132.000] - loss: 6.780 - mae: 16.419 - mean_q: 18.341\n",
      "\n",
      "Interval 4 (30000 steps performed)\n",
      "10000/10000 [==============================] - 33s 3ms/step - reward: 0.2562\n",
      "200 episodes - episode_reward: 12.810 [-52.000, 132.000] - loss: 9.250 - mae: 20.923 - mean_q: 23.147\n",
      "\n",
      "Interval 5 (40000 steps performed)\n",
      "10000/10000 [==============================] - 34s 3ms/step - reward: 0.3122\n",
      "done, took 164.815 seconds\n"
     ]
    }
   ],
   "source": [
    "history = dqn.fit(env, nb_steps=50000, visualize=False, verbose=1)"
   ]
  },
  {
   "cell_type": "code",
   "execution_count": 85,
   "id": "429ea2a0",
   "metadata": {},
   "outputs": [],
   "source": [
    "data = history.history\n",
    "data['episode_reward'] = [float(v) for v in data['episode_reward']]\n",
    "data['nb_episode_steps'] = [int(v) for v in data['nb_episode_steps']]\n",
    "data['nb_steps'] = [int(v) for v in data['nb_steps']]"
   ]
  },
  {
   "cell_type": "code",
   "execution_count": 86,
   "id": "523042d6",
   "metadata": {},
   "outputs": [],
   "source": [
    "os.mkdir('agents/{}'.format(name))  # If the directory does not exist we cannot write the file\n",
    "with open(get_training_path(name), 'w') as f:\n",
    "    json.dump(data, f)"
   ]
  },
  {
   "cell_type": "markdown",
   "id": "d5d1d24c",
   "metadata": {},
   "source": [
    "Save agent to memory"
   ]
  },
  {
   "cell_type": "code",
   "execution_count": 87,
   "id": "f1759baa",
   "metadata": {},
   "outputs": [],
   "source": [
    "dqn.save_weights(get_agent_path(name), overwrite=True)"
   ]
  },
  {
   "cell_type": "code",
   "execution_count": 88,
   "id": "e2cf8dd6",
   "metadata": {},
   "outputs": [
    {
     "name": "stdout",
     "output_type": "stream",
     "text": [
      "Reward Statistics for DQN_simple_5HT:\n",
      "Mean Reward: -43.09\n",
      "Max Reward: 14.00\n",
      "Min Reward: -72.00\n"
     ]
    },
    {
     "data": {
      "image/png": "[encoded data removed]",
      "text/plain": [
       "<Figure size 640x480 with 1 Axes>"
      ]
     },
     "metadata": {},
     "output_type": "display_data"
    }
   ],
   "source": [
    "plot_training_metrics('DQN_simple_5HT')"
   ]
  }
 ],
 "metadata": {
  "kernelspec": {
   "display_name": "RL",
   "language": "python",
   "name": "python3"
  },
  "language_info": {
   "codemirror_mode": {
    "name": "ipython",
    "version": 3
   },
   "file_extension": ".py",
   "mimetype": "text/x-python",
   "name": "python",
   "nbconvert_exporter": "python",
   "pygments_lexer": "ipython3",
   "version": "3.7.12"
  }
 },
 "nbformat": 4,
 "nbformat_minor": 5
}
