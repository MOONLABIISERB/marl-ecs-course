{
 "cells": [
  {
   "cell_type": "markdown",
   "metadata": {},
   "source": [
    "# Training v2.5 with a Deep Q Network (DQN) #"
   ]
  },
  {
   "cell_type": "markdown",
   "metadata": {},
   "source": [
    "Import statements"
   ]
  },
  {
   "cell_type": "code",
   "execution_count": 1,
   "metadata": {},
   "outputs": [],
   "source": [
    "import json\n",
    "import os\n",
    "\n",
    "import numpy as np\n",
    "\n",
    "import matplotlib\n",
    "import matplotlib.pyplot as plt\n",
    "from matplotlib import rc\n",
    "matplotlib.rcParams.update(matplotlib.rcParamsDefault)\n",
    "%matplotlib inline"
   ]
  },
  {
   "cell_type": "code",
   "execution_count": 2,
   "metadata": {},
   "outputs": [],
   "source": [
    "from tensorflow.keras.models import Sequential\n",
    "from tensorflow.keras.layers import Dense, Flatten\n",
    "from tensorflow.keras.optimizers.legacy import Adam, SGD"
   ]
  },
  {
   "cell_type": "code",
   "execution_count": 3,
   "metadata": {},
   "outputs": [],
   "source": [
    "from rl.agents import DQNAgent\n",
    "from rl.policy import BoltzmannQPolicy, EpsGreedyQPolicy\n",
    "from rl.memory import SequentialMemory  # For experience replay!"
   ]
  },
  {
   "cell_type": "code",
   "execution_count": 4,
   "metadata": {},
   "outputs": [
    {
     "name": "stdout",
     "output_type": "stream",
     "text": [
      "pygame 2.6.1 (SDL 2.28.4, Python 3.7.12)\n",
      "Hello from the pygame community. https://www.pygame.org/contribute.html\n"
     ]
    }
   ],
   "source": [
    "from gym_environment_ncml import *\n",
    "from learning import *"
   ]
  },
  {
   "cell_type": "markdown",
   "metadata": {},
   "source": [
    "Useful numbers"
   ]
  },
  {
   "cell_type": "code",
   "execution_count": 5,
   "metadata": {},
   "outputs": [],
   "source": [
    "MILLION = 1000000\n",
    "HTHOUSAND = 100000\n",
    "THOUSAND = 1000"
   ]
  },
  {
   "cell_type": "markdown",
   "metadata": {},
   "source": [
    "## 1. Create environment ##"
   ]
  },
  {
   "cell_type": "code",
   "execution_count": 6,
   "metadata": {},
   "outputs": [
    {
     "name": "stderr",
     "output_type": "stream",
     "text": [
      "c:\\Users\\ANT-PC\\.conda\\envs\\RL\\lib\\site-packages\\gym\\spaces\\box.py:74: UserWarning: \u001b[33mWARN: Box bound precision lowered by casting to float32\u001b[0m\n",
      "  \"Box bound precision lowered by casting to {}\".format(self.dtype)\n"
     ]
    }
   ],
   "source": [
    "env = GridworldMultiAgentv25()"
   ]
  },
  {
   "cell_type": "code",
   "execution_count": 7,
   "metadata": {},
   "outputs": [],
   "source": [
    "states = env.observation_space.shape[0]\n",
    "actions = env.action_space.n"
   ]
  },
  {
   "cell_type": "code",
   "execution_count": 8,
   "metadata": {},
   "outputs": [
    {
     "data": {
      "text/plain": [
       "(10, 25)"
      ]
     },
     "execution_count": 8,
     "metadata": {},
     "output_type": "execute_result"
    }
   ],
   "source": [
    "states, actions"
   ]
  },
  {
   "cell_type": "markdown",
   "metadata": {},
   "source": [
    "## 2. Create a Deep Learning Model with Keras ##"
   ]
  },
  {
   "cell_type": "code",
   "execution_count": 9,
   "metadata": {},
   "outputs": [
    {
     "name": "stdout",
     "output_type": "stream",
     "text": [
      "WARNING:tensorflow:From c:\\Users\\ANT-PC\\.conda\\envs\\RL\\lib\\site-packages\\keras\\layers\\normalization\\batch_normalization.py:561: _colocate_with (from tensorflow.python.framework.ops) is deprecated and will be removed in a future version.\n",
      "Instructions for updating:\n",
      "Colocations handled automatically by placer.\n"
     ]
    }
   ],
   "source": [
    "# conv_layers = [(32, (3, 3), (2, 2)), (64, (3, 3), (2, 2))]  # (filters, kernel_size, pool_size)\n",
    "# model = build_model(states=(84, 84, 3), actions=25, h_nodes=[128, 64], h_act=['relu', 'relu'], use_cnn=True, conv_layers=conv_layers)\n",
    "model = build_model(states, actions, h_nodes=[128, 64], h_act=['relu', 'leaky_relu'])\n"
   ]
  },
  {
   "cell_type": "code",
   "execution_count": 10,
   "metadata": {},
   "outputs": [
    {
     "name": "stdout",
     "output_type": "stream",
     "text": [
      "Model: \"sequential\"\n",
      "_________________________________________________________________\n",
      " Layer (type)                Output Shape              Param #   \n",
      "=================================================================\n",
      " flatten (Flatten)           (None, 10)                0         \n",
      "                                                                 \n",
      " dense (Dense)               (None, 128)               1408      \n",
      "                                                                 \n",
      " dense_1 (Dense)             (None, 128)               16512     \n",
      "                                                                 \n",
      " batch_normalization (BatchN  (None, 128)              512       \n",
      " ormalization)                                                   \n",
      "                                                                 \n",
      " dropout (Dropout)           (None, 128)               0         \n",
      "                                                                 \n",
      " dense_2 (Dense)             (None, 64)                8256      \n",
      "                                                                 \n",
      " leaky_re_lu (LeakyReLU)     (None, 64)                0         \n",
      "                                                                 \n",
      " batch_normalization_1 (Batc  (None, 64)               256       \n",
      " hNormalization)                                                 \n",
      "                                                                 \n",
      " dropout_1 (Dropout)         (None, 64)                0         \n",
      "                                                                 \n",
      " dense_3 (Dense)             (None, 25)                1625      \n",
      "                                                                 \n",
      "=================================================================\n",
      "Total params: 28,569\n",
      "Trainable params: 28,185\n",
      "Non-trainable params: 384\n",
      "_________________________________________________________________\n"
     ]
    }
   ],
   "source": [
    "model.summary()"
   ]
  },
  {
   "cell_type": "markdown",
   "metadata": {},
   "source": [
    "## 3. Build Agent with Keras-RL ##"
   ]
  },
  {
   "cell_type": "code",
   "execution_count": 11,
   "metadata": {},
   "outputs": [],
   "source": [
    "def plot_training_metrics(name):\n",
    "    \"\"\"\n",
    "    Visualize training metrics (rewards) for a given agent\n",
    "    \n",
    "    Parameters:\n",
    "    -----------\n",
    "    name : str\n",
    "        Name of the agent/training run\n",
    "    \"\"\"\n",
    "    # Load training data\n",
    "    with open(f'agents/{name}/{name}_training.json', 'r') as f:\n",
    "        data = json.load(f)\n",
    "    \n",
    "    # Create a figure with two subplots\n",
    "    # plt.figure(figsize=(15, 10))\n",
    "    \n",
    "    # Rewards plot\n",
    "    plt.plot(data['episode_reward'], label='Episode Reward', color='blue', alpha=0.7)\n",
    "    plt.title(f'Training Rewards for {name}')\n",
    "    plt.xlabel('Training Steps')\n",
    "    plt.ylabel('Reward')\n",
    "    plt.legend()\n",
    "    \n",
    "    # Optional: Add moving average for smoother visualization\n",
    "    window_size = 100\n",
    "    if len(data['episode_reward']) > window_size:\n",
    "        rewards_ma = np.convolve(data['episode_reward'], np.ones(window_size)/window_size, mode='valid')\n",
    "        plt.plot(np.arange(window_size-1, len(data['episode_reward'])), \n",
    "                 rewards_ma, label=f'{window_size}-Step Moving Average', color='red', linewidth=2)\n",
    "        plt.legend()\n",
    "    \n",
    "    # # Loss plot\n",
    "    # plt.subplot(2, 1, 2)\n",
    "    # plt.plot(data['loss'], label='Training Loss', color='green', alpha=0.7)\n",
    "    # plt.title(f'Training Loss for {name}')\n",
    "    # plt.xlabel('Training Steps')\n",
    "    # plt.ylabel('Loss')\n",
    "    # plt.legend()\n",
    "    \n",
    "    # Adjust layout and save\n",
    "    # plt.tight_layout()\n",
    "    plt.savefig(f'agents/{name}/training_metrics_plot.png', dpi=300)\n",
    "    # plt.close()\n",
    "\n",
    "    # Optional: Print some basic statistics\n",
    "    print(f\"Reward Statistics for {name}:\")\n",
    "    print(f\"Mean Reward: {np.mean(data['episode_reward']):.2f}\")\n",
    "    print(f\"Max Reward: {np.max(data['episode_reward']):.2f}\")\n",
    "    print(f\"Min Reward: {np.min(data['episode_reward']):.2f}\")\n"
   ]
  },
  {
   "cell_type": "code",
   "execution_count": 12,
   "metadata": {},
   "outputs": [
    {
     "name": "stderr",
     "output_type": "stream",
     "text": [
      "c:\\Users\\ANT-PC\\.conda\\envs\\RL\\lib\\site-packages\\keras\\optimizers\\optimizer_v2\\adam.py:117: UserWarning: The `lr` argument is deprecated, use `learning_rate` instead.\n",
      "  super().__init__(name, **kwargs)\n"
     ]
    },
    {
     "name": "stdout",
     "output_type": "stream",
     "text": [
      "WARNING:tensorflow:From c:\\Users\\ANT-PC\\.conda\\envs\\RL\\lib\\site-packages\\tensorflow\\python\\autograph\\pyct\\static_analysis\\liveness.py:83: Analyzer.lamba_check (from tensorflow.python.autograph.pyct.static_analysis.liveness) is deprecated and will be removed after 2023-09-23.\n",
      "Instructions for updating:\n",
      "Lambda fuctions will be no more assumed to be used in the statement where they are used, or at least in the same block. https://github.com/tensorflow/tensorflow/issues/56089\n"
     ]
    }
   ],
   "source": [
    "dqn = build_agent(model, actions, 0.01, EpsGreedyQPolicy(), 50000)\n",
    "dqn.compile(Adam(lr=1e-3), metrics=['mae'])\n",
    "# dqn.compile(Adam(lr=1e-2), metrics=['mse'])"
   ]
  },
  {
   "cell_type": "code",
   "execution_count": 13,
   "metadata": {},
   "outputs": [],
   "source": [
    "# name = 'dqn25_5b5_3216_adam_lr0.001_tmu0.01_ml50K_ns5M_eps0.1_a6_b0'\n",
    "name = 'DQN_complex_5HT'"
   ]
  },
  {
   "cell_type": "code",
   "execution_count": 14,
   "metadata": {},
   "outputs": [
    {
     "name": "stdout",
     "output_type": "stream",
     "text": [
      "Training for 500000 steps ...\n",
      "Interval 1 (0 steps performed)\n",
      "    1/10000 [..............................] - ETA: 13:49 - reward: -1.0000"
     ]
    },
    {
     "name": "stderr",
     "output_type": "stream",
     "text": [
      "c:\\Users\\ANT-PC\\.conda\\envs\\RL\\lib\\site-packages\\keras\\engine\\training_v1.py:2357: UserWarning: `Model.state_updates` will be removed in a future version. This property should not be used in TensorFlow 2.0, as `updates` are applied automatically.\n",
      "  updates=self.state_updates,\n"
     ]
    },
    {
     "name": "stdout",
     "output_type": "stream",
     "text": [
      "10000/10000 [==============================] - 47s 5ms/step - reward: -0.8464\n",
      "200 episodes - episode_reward: -42.320 [-58.000, 8.000] - loss: 297920.954 - mae: 139.026 - mean_q: 222.689\n",
      "\n",
      "Interval 2 (10000 steps performed)\n",
      "10000/10000 [==============================] - 49s 5ms/step - reward: -0.9008\n",
      "200 episodes - episode_reward: -45.040 [-64.000, -8.000] - loss: 2867943.250 - mae: 601.535 - mean_q: 993.887\n",
      "\n",
      "Interval 3 (20000 steps performed)\n",
      "10000/10000 [==============================] - 48s 5ms/step - reward: -0.8912\n",
      "200 episodes - episode_reward: -44.560 [-64.000, -10.000] - loss: 43700640.000 - mae: 1988.961 - mean_q: 3602.073\n",
      "\n",
      "Interval 4 (30000 steps performed)\n",
      "10000/10000 [==============================] - 49s 5ms/step - reward: -0.8850\n",
      "200 episodes - episode_reward: -44.250 [-58.000, -16.000] - loss: 184223984.000 - mae: 3812.541 - mean_q: 7140.263\n",
      "\n",
      "Interval 5 (40000 steps performed)\n",
      "10000/10000 [==============================] - 50s 5ms/step - reward: -0.9032\n",
      "200 episodes - episode_reward: -45.160 [-60.000, -10.000] - loss: 504521184.000 - mae: 5798.621 - mean_q: 11117.797\n",
      "\n",
      "Interval 6 (50000 steps performed)\n",
      "10000/10000 [==============================] - 50s 5ms/step - reward: -0.8898\n",
      "200 episodes - episode_reward: -44.490 [-52.000, -10.000] - loss: 944387392.000 - mae: 7718.689 - mean_q: 15171.153\n",
      "\n",
      "Interval 7 (60000 steps performed)\n",
      "10000/10000 [==============================] - 49s 5ms/step - reward: -0.9188\n",
      "200 episodes - episode_reward: -45.940 [-54.000, -10.000] - loss: 2309506816.000 - mae: 9262.077 - mean_q: 18192.721\n",
      "\n",
      "Interval 8 (70000 steps performed)\n",
      "10000/10000 [==============================] - 47s 5ms/step - reward: -0.9156\n",
      "200 episodes - episode_reward: -45.780 [-58.000, -10.000] - loss: 3605823744.000 - mae: 10688.540 - mean_q: 20007.727\n",
      "\n",
      "Interval 9 (80000 steps performed)\n",
      "10000/10000 [==============================] - 47s 5ms/step - reward: -0.9110\n",
      "200 episodes - episode_reward: -45.550 [-58.000, -10.000] - loss: 5174930432.000 - mae: 12405.854 - mean_q: 21729.676\n",
      "\n",
      "Interval 10 (90000 steps performed)\n",
      "10000/10000 [==============================] - 47s 5ms/step - reward: -0.8988\n",
      "200 episodes - episode_reward: -44.940 [-58.000, -20.000] - loss: 7560402432.000 - mae: 14262.747 - mean_q: 23541.086\n",
      "\n",
      "Interval 11 (100000 steps performed)\n",
      "10000/10000 [==============================] - 47s 5ms/step - reward: -0.8954\n",
      "200 episodes - episode_reward: -44.770 [-54.000, 10.000] - loss: 511973687296.000 - mae: 16333.672 - mean_q: 24826.189\n",
      "\n",
      "Interval 12 (110000 steps performed)\n",
      "10000/10000 [==============================] - 47s 5ms/step - reward: -0.8970\n",
      "200 episodes - episode_reward: -44.850 [-64.000, -8.000] - loss: 105092644864.000 - mae: 18162.188 - mean_q: 25584.805\n",
      "\n",
      "Interval 13 (120000 steps performed)\n",
      "10000/10000 [==============================] - 47s 5ms/step - reward: -0.8952\n",
      "200 episodes - episode_reward: -44.760 [-54.000, -20.000] - loss: 10256277504.000 - mae: 19465.453 - mean_q: 26865.744\n",
      "\n",
      "Interval 14 (130000 steps performed)\n",
      "10000/10000 [==============================] - 47s 5ms/step - reward: -0.8956\n",
      "200 episodes - episode_reward: -44.780 [-52.000, -16.000] - loss: 14902593536.000 - mae: 21135.367 - mean_q: 29361.203\n",
      "\n",
      "Interval 15 (140000 steps performed)\n",
      "10000/10000 [==============================] - 47s 5ms/step - reward: -0.9054\n",
      "200 episodes - episode_reward: -45.270 [-60.000, -10.000] - loss: 11645169664.000 - mae: 24119.482 - mean_q: 34178.805\n",
      "\n",
      "Interval 16 (150000 steps performed)\n",
      "10000/10000 [==============================] - 47s 5ms/step - reward: -0.9002\n",
      "200 episodes - episode_reward: -45.010 [-58.000, -10.000] - loss: 12313023488.000 - mae: 27645.449 - mean_q: 41048.449\n",
      "\n",
      "Interval 17 (160000 steps performed)\n",
      "10000/10000 [==============================] - 47s 5ms/step - reward: -0.8906\n",
      "200 episodes - episode_reward: -44.530 [-58.000, -10.000] - loss: 18496714752.000 - mae: 30894.934 - mean_q: 47876.324\n",
      "\n",
      "Interval 18 (170000 steps performed)\n",
      "10000/10000 [==============================] - 47s 5ms/step - reward: -0.9106\n",
      "200 episodes - episode_reward: -45.530 [-58.000, -20.000] - loss: 30563446784.000 - mae: 33635.359 - mean_q: 53904.520\n",
      "\n",
      "Interval 19 (180000 steps performed)\n",
      "10000/10000 [==============================] - 47s 5ms/step - reward: -0.9030\n",
      "200 episodes - episode_reward: -45.150 [-58.000, -10.000] - loss: 39254786048.000 - mae: 35937.059 - mean_q: 57821.406\n",
      "\n",
      "Interval 20 (190000 steps performed)\n",
      "10000/10000 [==============================] - 47s 5ms/step - reward: -0.9148\n",
      "200 episodes - episode_reward: -45.740 [-54.000, -10.000] - loss: 109806813184.000 - mae: 38752.875 - mean_q: 62036.789\n",
      "\n",
      "Interval 21 (200000 steps performed)\n",
      "10000/10000 [==============================] - 47s 5ms/step - reward: -0.8918\n",
      "200 episodes - episode_reward: -44.590 [-56.000, 0.000] - loss: 92502409216.000 - mae: 41442.746 - mean_q: 65206.637\n",
      "\n",
      "Interval 22 (210000 steps performed)\n",
      "10000/10000 [==============================] - 47s 5ms/step - reward: -0.8816\n",
      "200 episodes - episode_reward: -44.080 [-58.000, 0.000] - loss: 117630656512.000 - mae: 44461.496 - mean_q: 68594.086\n",
      "\n",
      "Interval 23 (220000 steps performed)\n",
      "10000/10000 [==============================] - 47s 5ms/step - reward: -0.8836\n",
      "200 episodes - episode_reward: -44.180 [-52.000, 0.000] - loss: 51678461952.000 - mae: 46801.656 - mean_q: 71728.797\n",
      "\n",
      "Interval 24 (230000 steps performed)\n",
      "10000/10000 [==============================] - 47s 5ms/step - reward: -0.8912\n",
      "200 episodes - episode_reward: -44.560 [-60.000, 4.000] - loss: 74982146048.000 - mae: 48129.945 - mean_q: 69236.477\n",
      "\n",
      "Interval 25 (240000 steps performed)\n",
      "10000/10000 [==============================] - 47s 5ms/step - reward: -0.8974\n",
      "200 episodes - episode_reward: -44.870 [-58.000, -16.000] - loss: 148224147456.000 - mae: 50199.977 - mean_q: 68086.109\n",
      "\n",
      "Interval 26 (250000 steps performed)\n",
      "10000/10000 [==============================] - 47s 5ms/step - reward: -0.9094\n",
      "200 episodes - episode_reward: -45.470 [-58.000, -20.000] - loss: 188150824960.000 - mae: 52140.629 - mean_q: 71774.078\n",
      "\n",
      "Interval 27 (260000 steps performed)\n",
      "10000/10000 [==============================] - 47s 5ms/step - reward: -0.8966\n",
      "200 episodes - episode_reward: -44.830 [-54.000, -20.000] - loss: 220222357504.000 - mae: 54232.320 - mean_q: 75883.734\n",
      "\n",
      "Interval 28 (270000 steps performed)\n",
      "10000/10000 [==============================] - 47s 5ms/step - reward: -0.8912\n",
      "200 episodes - episode_reward: -44.560 [-52.000, -10.000] - loss: 573772267520.000 - mae: 56667.648 - mean_q: 78624.961\n",
      "\n",
      "Interval 29 (280000 steps performed)\n",
      "10000/10000 [==============================] - 47s 5ms/step - reward: -0.9096\n",
      "200 episodes - episode_reward: -45.480 [-58.000, -10.000] - loss: 146252873728.000 - mae: 58837.461 - mean_q: 80878.047\n",
      "\n",
      "Interval 30 (290000 steps performed)\n",
      "10000/10000 [==============================] - 47s 5ms/step - reward: -0.8942\n",
      "200 episodes - episode_reward: -44.710 [-66.000, 0.000] - loss: 97107976.000 - mae: 57910.895 - mean_q: 77306.281\n",
      "\n",
      "Interval 31 (300000 steps performed)\n",
      "10000/10000 [==============================] - 47s 5ms/step - reward: -0.9128\n",
      "200 episodes - episode_reward: -45.640 [-56.000, -20.000] - loss: 56667976.000 - mae: 54948.121 - mean_q: 65040.211\n",
      "\n",
      "Interval 32 (310000 steps performed)\n",
      "10000/10000 [==============================] - 47s 5ms/step - reward: -0.8566\n",
      "200 episodes - episode_reward: -42.830 [-58.000, -6.000] - loss: 33400416.000 - mae: 49174.770 - mean_q: 53366.434\n",
      "\n",
      "Interval 33 (320000 steps performed)\n",
      "10000/10000 [==============================] - 47s 5ms/step - reward: -0.8926\n",
      "200 episodes - episode_reward: -44.630 [-58.000, 0.000] - loss: 78251081728.000 - mae: 47352.621 - mean_q: 50397.645\n",
      "\n",
      "Interval 34 (330000 steps performed)\n",
      "10000/10000 [==============================] - 47s 5ms/step - reward: -0.8994\n",
      "200 episodes - episode_reward: -44.970 [-58.000, -20.000] - loss: 65649274880.000 - mae: 48846.965 - mean_q: 54343.219\n",
      "\n",
      "Interval 35 (340000 steps performed)\n",
      "10000/10000 [==============================] - 47s 5ms/step - reward: -0.9006\n",
      "200 episodes - episode_reward: -45.030 [-60.000, -10.000] - loss: 73781018624.000 - mae: 51088.145 - mean_q: 60188.312\n",
      "\n",
      "Interval 36 (350000 steps performed)\n",
      "10000/10000 [==============================] - 47s 5ms/step - reward: -0.9036\n",
      "200 episodes - episode_reward: -45.180 [-58.000, -10.000] - loss: 89234071552.000 - mae: 53936.602 - mean_q: 67131.562\n",
      "\n",
      "Interval 37 (360000 steps performed)\n",
      "10000/10000 [==============================] - 47s 5ms/step - reward: -0.9174\n",
      "200 episodes - episode_reward: -45.870 [-58.000, -22.000] - loss: 91686313984.000 - mae: 56804.590 - mean_q: 74131.500\n",
      "\n",
      "Interval 38 (370000 steps performed)\n",
      "10000/10000 [==============================] - 47s 5ms/step - reward: -0.9154\n",
      "200 episodes - episode_reward: -45.770 [-58.000, -20.000] - loss: 144847323136.000 - mae: 59279.602 - mean_q: 80534.930\n",
      "\n",
      "Interval 39 (380000 steps performed)\n",
      "10000/10000 [==============================] - 47s 5ms/step - reward: -0.9112\n",
      "200 episodes - episode_reward: -45.560 [-58.000, -20.000] - loss: 528380821504.000 - mae: 61164.000 - mean_q: 85382.422\n",
      "\n",
      "Interval 40 (390000 steps performed)\n",
      "10000/10000 [==============================] - 47s 5ms/step - reward: -0.9172\n",
      "200 episodes - episode_reward: -45.860 [-66.000, -10.000] - loss: 606980538368.000 - mae: 63504.512 - mean_q: 89048.266\n",
      "\n",
      "Interval 41 (400000 steps performed)\n",
      "10000/10000 [==============================] - 47s 5ms/step - reward: -0.9048\n",
      "200 episodes - episode_reward: -45.240 [-58.000, -10.000] - loss: 515351576576.000 - mae: 66230.719 - mean_q: 93149.719\n",
      "\n",
      "Interval 42 (410000 steps performed)\n",
      "10000/10000 [==============================] - 47s 5ms/step - reward: -0.9030\n",
      "200 episodes - episode_reward: -45.150 [-58.000, -12.000] - loss: 556375408640.000 - mae: 68979.273 - mean_q: 97901.109\n",
      "\n",
      "Interval 43 (420000 steps performed)\n",
      "10000/10000 [==============================] - 47s 5ms/step - reward: -0.8824\n",
      "200 episodes - episode_reward: -44.120 [-58.000, -6.000] - loss: 216564269056.000 - mae: 71384.133 - mean_q: 103438.320\n",
      "\n",
      "Interval 44 (430000 steps performed)\n",
      "10000/10000 [==============================] - 47s 5ms/step - reward: -0.8892\n",
      "200 episodes - episode_reward: -44.460 [-54.000, -20.000] - loss: 314679164928.000 - mae: 74002.195 - mean_q: 109930.461\n",
      "\n",
      "Interval 45 (440000 steps performed)\n",
      "10000/10000 [==============================] - 47s 5ms/step - reward: -0.8758\n",
      "200 episodes - episode_reward: -43.790 [-58.000, -10.000] - loss: 282569375744.000 - mae: 77052.641 - mean_q: 116860.195\n",
      "\n",
      "Interval 46 (450000 steps performed)\n",
      "10000/10000 [==============================] - 47s 5ms/step - reward: -0.9000\n",
      "200 episodes - episode_reward: -45.000 [-58.000, -10.000] - loss: 431253815296.000 - mae: 80115.352 - mean_q: 123654.578\n",
      "\n",
      "Interval 47 (460000 steps performed)\n",
      "10000/10000 [==============================] - 47s 5ms/step - reward: -0.9052\n",
      "200 episodes - episode_reward: -45.260 [-58.000, 0.000] - loss: 431877259264.000 - mae: 82697.945 - mean_q: 129930.648\n",
      "\n",
      "Interval 48 (470000 steps performed)\n",
      "10000/10000 [==============================] - 46s 5ms/step - reward: -0.9176\n",
      "200 episodes - episode_reward: -45.880 [-58.000, -10.000] - loss: 3305317072896.000 - mae: 84050.758 - mean_q: 129799.156\n",
      "\n",
      "Interval 49 (480000 steps performed)\n",
      "10000/10000 [==============================] - 45s 5ms/step - reward: -0.9026\n",
      "200 episodes - episode_reward: -45.130 [-62.000, 0.000] - loss: 1472075137024.000 - mae: 88439.828 - mean_q: 132789.609\n",
      "\n",
      "Interval 50 (490000 steps performed)\n",
      "10000/10000 [==============================] - 45s 5ms/step - reward: -0.9080\n",
      "done, took 2359.809 seconds\n"
     ]
    }
   ],
   "source": [
    "history = dqn.fit(env, nb_steps=5*HTHOUSAND, visualize=False, verbose=1)"
   ]
  },
  {
   "cell_type": "code",
   "execution_count": 15,
   "metadata": {},
   "outputs": [],
   "source": [
    "data = history.history\n",
    "data['episode_reward'] = [float(v) for v in data['episode_reward']]\n",
    "data['nb_episode_steps'] = [int(v) for v in data['nb_episode_steps']]\n",
    "data['nb_steps'] = [int(v) for v in data['nb_steps']]"
   ]
  },
  {
   "cell_type": "code",
   "execution_count": 16,
   "metadata": {},
   "outputs": [],
   "source": [
    "os.mkdir('agents/{}'.format(name))  # If the directory does not exist we cannot write the file\n",
    "with open(get_training_path(name), 'w') as f:\n",
    "    json.dump(data, f)"
   ]
  },
  {
   "cell_type": "markdown",
   "metadata": {},
   "source": [
    "Save agent to memory"
   ]
  },
  {
   "cell_type": "code",
   "execution_count": 17,
   "metadata": {},
   "outputs": [],
   "source": [
    "dqn.save_weights(get_agent_path(name), overwrite=True)"
   ]
  },
  {
   "cell_type": "code",
   "execution_count": 25,
   "metadata": {},
   "outputs": [
    {
     "name": "stdout",
     "output_type": "stream",
     "text": [
      "Reward Statistics for DQN_complex_5HT:\n",
      "Mean Reward: -44.93\n",
      "Max Reward: 10.00\n",
      "Min Reward: -66.00\n"
     ]
    },
    {
     "data": {
      "image/png": "[encoded data removed]",
      "text/plain": [
       "<Figure size 640x480 with 1 Axes>"
      ]
     },
     "metadata": {},
     "output_type": "display_data"
    }
   ],
   "source": [
    "plot_training_metrics('DQN_complex_5HT')"
   ]
  },
  {
   "cell_type": "code",
   "execution_count": null,
   "metadata": {},
   "outputs": [],
   "source": [
    "plt.plot(data['episode_reward'], label='Episode Reward', color='blue', alpha=0.7)\n",
    "plt.title(f'Training Rewards for {name}')\n",
    "plt.xlabel('Training Steps')\n",
    "plt.ylabel('Reward')\n",
    "plt.legend()"
   ]
  },
  {
   "cell_type": "markdown",
   "metadata": {},
   "source": [
    "## 4. Reloading training from and test ##"
   ]
  },
  {
   "cell_type": "code",
   "execution_count": 19,
   "metadata": {},
   "outputs": [],
   "source": [
    "env = GridworldMultiAgentv25(seed=2)"
   ]
  },
  {
   "cell_type": "code",
   "execution_count": 20,
   "metadata": {},
   "outputs": [
    {
     "name": "stdout",
     "output_type": "stream",
     "text": [
      "Model: \"sequential_1\"\n",
      "_________________________________________________________________\n",
      " Layer (type)                Output Shape              Param #   \n",
      "=================================================================\n",
      " flatten_1 (Flatten)         (None, 10)                0         \n",
      "                                                                 \n",
      " dense_4 (Dense)             (None, 128)               1408      \n",
      "                                                                 \n",
      " dense_5 (Dense)             (None, 128)               16512     \n",
      "                                                                 \n",
      " batch_normalization_2 (Batc  (None, 128)              512       \n",
      " hNormalization)                                                 \n",
      "                                                                 \n",
      " dropout_2 (Dropout)         (None, 128)               0         \n",
      "                                                                 \n",
      " dense_6 (Dense)             (None, 64)                8256      \n",
      "                                                                 \n",
      " leaky_re_lu_1 (LeakyReLU)   (None, 64)                0         \n",
      "                                                                 \n",
      " batch_normalization_3 (Batc  (None, 64)               256       \n",
      " hNormalization)                                                 \n",
      "                                                                 \n",
      " dropout_3 (Dropout)         (None, 64)                0         \n",
      "                                                                 \n",
      " dense_7 (Dense)             (None, 25)                1625      \n",
      "                                                                 \n",
      "=================================================================\n",
      "Total params: 28,569\n",
      "Trainable params: 28,185\n",
      "Non-trainable params: 384\n",
      "_________________________________________________________________\n",
      "None\n"
     ]
    }
   ],
   "source": [
    "states = env.observation_space.shape[0]\n",
    "actions = env.action_space.n\n",
    "model = build_model(states, actions, h_nodes=[128, 64], h_act=['relu', 'leaky_relu'])\n",
    "\n",
    "print(model.summary())\n",
    "dqn = build_agent(model, actions, 0.01, EpsGreedyQPolicy(eps=0), 50000)\n",
    "dqn.compile(Adam(lr=1e-3), metrics=['mae'])\n",
    "\n",
    "# Load weights\n",
    "dqn.load_weights(get_agent_path(name))"
   ]
  },
  {
   "cell_type": "code",
   "execution_count": 21,
   "metadata": {},
   "outputs": [],
   "source": [
    "nb_episodes = 10*THOUSAND"
   ]
  },
  {
   "cell_type": "code",
   "execution_count": 22,
   "metadata": {},
   "outputs": [],
   "source": [
    "scores = dqn.test(env, nb_episodes=nb_episodes, visualize=False, verbose=0)"
   ]
  },
  {
   "cell_type": "code",
   "execution_count": 23,
   "metadata": {},
   "outputs": [],
   "source": [
    "rewards = np.array(scores.history['episode_reward'])"
   ]
  },
  {
   "cell_type": "code",
   "execution_count": 24,
   "metadata": {},
   "outputs": [],
   "source": [
    "np.savetxt(get_test_path(name, nb_episodes), rewards)"
   ]
  },
  {
   "cell_type": "code",
   "execution_count": null,
   "metadata": {},
   "outputs": [],
   "source": []
  }
 ],
 "metadata": {
  "kernelspec": {
   "display_name": "RL",
   "language": "python",
   "name": "python3"
  },
  "language_info": {
   "codemirror_mode": {
    "name": "ipython",
    "version": 3
   },
   "file_extension": ".py",
   "mimetype": "text/x-python",
   "name": "python",
   "nbconvert_exporter": "python",
   "pygments_lexer": "ipython3",
   "version": "3.7.12"
  }
 },
 "nbformat": 4,
 "nbformat_minor": 2
}
