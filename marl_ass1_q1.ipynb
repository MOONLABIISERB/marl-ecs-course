{
  "nbformat": 4,
  "nbformat_minor": 0,
  "metadata": {
    "colab": {
      "provenance": [],
      "gpuType": "T4"
    },
    "kernelspec": {
      "name": "python3",
      "display_name": "Python 3"
    },
    "language_info": {
      "name": "python"
    },
    "accelerator": "GPU"
  },
  "cells": [
    {
      "cell_type": "markdown",
      "source": [
        "# Policy Iteration"
      ],
      "metadata": {
        "id": "rtHjy59Bs5IC"
      }
    },
    {
      "cell_type": "code",
      "execution_count": null,
      "metadata": {
        "id": "bQUDtdBXSbvC"
      },
      "outputs": [],
      "source": [
        "S = ['canteen', 'hostel', 'academic building'] # Set of All States\n",
        "A = ['attend classes', 'hungry'] # Set of All Actions\n",
        "R = {'canteen': 1, 'hostel': -1, 'academic building': 3} # Reward Function\n",
        "P = {'hostel': {'attend classes': {'canteen': 0, 'hostel': 0.5, 'academic building': 0.5},\n",
        "                'hungry': {'canteen': 1, 'hostel': 0, 'academic building': 0}},\n",
        "     'academic building': {'attend classes': {'canteen': 0.3, 'hostel': 0, 'academic building': 0.7},\n",
        "                            'hungry': {'canteen': 0.8, 'hostel': 0, 'academic building': 0.2}},\n",
        "     'canteen': {'attend classes': {'canteen': 0.1, 'hostel': 0.3, 'academic building': 0.6},\n",
        "                 'hungry': {'canteen': 1, 'hostel': 0, 'academic building': 0}}\n",
        "     } # Probability Transition Function"
      ]
    },
    {
      "cell_type": "code",
      "source": [
        "def policy_iteration(S, A, R, P):\n",
        "\n",
        "  policy = {s: A[1] for s in S}\n",
        "\n",
        "  while True:\n",
        "    old_policy = policy.copy()\n",
        "\n",
        "    V = policy_elvaluation(policy)\n",
        "\n",
        "    policy = policy_improvement(V)\n",
        "    if old_policy == policy:\n",
        "      break\n",
        "\n",
        "  return policy, V"
      ],
      "metadata": {
        "id": "vgEbylB3VuNx"
      },
      "execution_count": null,
      "outputs": []
    },
    {
      "cell_type": "code",
      "source": [
        "def policy_elvaluation(policy, gamma = 0.9, delta = 0.1):\n",
        "\n",
        "  V = {s: 0 for s in S}\n",
        "\n",
        "  while (True):\n",
        "    old_V = V.copy()\n",
        "\n",
        "    for s in S:\n",
        "      a = policy[s]\n",
        "      V[s] = R[s] + gamma*sum(P[s][a][s_next]*old_V[s_next] for s_next in S)\n",
        "\n",
        "    if max(abs(V[s] - old_V[s]) for s in S) < delta:\n",
        "      break\n",
        "  return V"
      ],
      "metadata": {
        "id": "B-9eea68Z0i7"
      },
      "execution_count": null,
      "outputs": []
    },
    {
      "cell_type": "code",
      "source": [
        "def policy_improvement(V, gamma = 0.9):\n",
        "  policy = {s: A[0] for s in S}\n",
        "\n",
        "  for s in S:\n",
        "    Q = {}\n",
        "    for a in A:\n",
        "      Q[a] =  R[s] + gamma*sum(P[s][a][s_next]*V[s_next] for s_next in S)\n",
        "\n",
        "    policy[s] = max(Q, key = Q.get)\n",
        "\n",
        "  return policy"
      ],
      "metadata": {
        "id": "og2WxLOYdcEO"
      },
      "execution_count": null,
      "outputs": []
    },
    {
      "cell_type": "code",
      "source": [
        "optimal_policy, optimal_value_function = policy_iteration(S, A, R, P)\n",
        "print('Optimal Policy', optimal_policy)\n",
        "print('Optimal Value Function', optimal_value_function)"
      ],
      "metadata": {
        "colab": {
          "base_uri": "https://localhost:8080/"
        },
        "id": "3-IxieJqgrzm",
        "outputId": "a6ab0bdf-2cd8-4ca2-b57f-62e0035a040a"
      },
      "execution_count": null,
      "outputs": [
        {
          "output_type": "stream",
          "name": "stdout",
          "text": [
            "Optimal Policy {'canteen': 'attend classes', 'hostel': 'attend classes', 'academic building': 'attend classes'}\n",
            "Optimal Value Function {'canteen': 17.96045319629523, 'hostel': 15.189986372635445, 'academic building': 20.980262034084397}\n"
          ]
        }
      ]
    },
    {
      "cell_type": "markdown",
      "source": [
        "# Value Iteration"
      ],
      "metadata": {
        "id": "3QQT_QO6pTjD"
      }
    },
    {
      "cell_type": "code",
      "source": [
        "def value_iteration(S, A, R, P):\n",
        "\n",
        "  V = {s: 0 for s in S}\n",
        "  policy = {s: A[1] for s in S}\n",
        "  gamma = 0.9\n",
        "  delta = 0.1\n",
        "\n",
        "  while True:\n",
        "    old_V = V.copy()\n",
        "    old_policy = policy.copy()\n",
        "    for s in S:\n",
        "      Q = {}\n",
        "      for a in A:\n",
        "        Q[a] = R[s] + gamma*sum(P[s][a][s_next]*old_V[s_next] for s_next in S)\n",
        "\n",
        "      V[s] = max(Q.values())\n",
        "      policy[s] = max(Q, key = Q.get)\n",
        "\n",
        "    if max(abs(V[s] - old_V[s]) for s in S) < delta:  #break by value function\n",
        "      break\n",
        "    # if old_policy == policy: # break by policy\n",
        "    #   break\n",
        "\n",
        "\n",
        "  return policy, V\n"
      ],
      "metadata": {
        "id": "Kdsuap0rg0SE"
      },
      "execution_count": null,
      "outputs": []
    },
    {
      "cell_type": "code",
      "source": [
        "optimal_policy, optimal_value_function = value_iteration(S, A, R, P)\n",
        "print('Optimal Policy', optimal_policy)\n",
        "print('Optimal Value Function', optimal_value_function)"
      ],
      "metadata": {
        "colab": {
          "base_uri": "https://localhost:8080/"
        },
        "id": "rfxr4Qnaryh9",
        "outputId": "a17d628e-3337-442a-89a3-838f7495969a"
      },
      "execution_count": null,
      "outputs": [
        {
          "output_type": "stream",
          "name": "stdout",
          "text": [
            "Optimal Policy {'canteen': 'attend classes', 'hostel': 'attend classes', 'academic building': 'attend classes'}\n",
            "Optimal Value Function {'canteen': 17.96045319629523, 'hostel': 15.189986372635445, 'academic building': 20.980262034084397}\n"
          ]
        }
      ]
    },
    {
      "cell_type": "code",
      "source": [],
      "metadata": {
        "id": "UFKePdHfr2Bs"
      },
      "execution_count": null,
      "outputs": []
    }
  ]
}