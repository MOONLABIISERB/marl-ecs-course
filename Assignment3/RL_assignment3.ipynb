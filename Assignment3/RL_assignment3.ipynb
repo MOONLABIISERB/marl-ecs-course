{
  "nbformat": 4,
  "nbformat_minor": 0,
  "metadata": {
    "colab": {
      "provenance": []
    },
    "kernelspec": {
      "name": "python3",
      "display_name": "Python 3"
    },
    "language_info": {
      "name": "python"
    }
  },
  "cells": [
    {
      "cell_type": "markdown",
      "source": [
        "# MULTI AGENT REINFORCEMENT LEARNING - ASSIGNMENT 3"
      ],
      "metadata": {
        "id": "E3ki9b-O9zTV"
      }
    },
    {
      "cell_type": "markdown",
      "source": [
        "## DEFINING THE MAZE"
      ],
      "metadata": {
        "id": "vk0fxH0-98BP"
      }
    },
    {
      "cell_type": "code",
      "execution_count": 27,
      "metadata": {
        "colab": {
          "base_uri": "https://localhost:8080/",
          "height": 727
        },
        "id": "J1abUDHNpQxe",
        "outputId": "b925c5e3-46ed-4e1d-8664-a0566c13f914"
      },
      "outputs": [
        {
          "output_type": "stream",
          "name": "stdout",
          "text": [
            "\n",
            "Agents' positions (row, column): [(5, 9), (6, 8), (4, 3), (3, 7)]\n",
            "Destinations' positions (row, column): [(1, 5), (5, 8), (5, 1), (8, 4)]\n"
          ]
        },
        {
          "output_type": "display_data",
          "data": {
            "text/plain": [
              "<Figure size 800x800 with 1 Axes>"
            ],
            "image/png": "[encoded data removed]"
          },
          "metadata": {}
        }
      ],
      "source": [
        "import matplotlib.pyplot as plt\n",
        "import matplotlib.patches as patches\n",
        "\n",
        "import random\n",
        "import numpy as np\n",
        "\n",
        "# Initialize the maze dimensions and empty grid\n",
        "maze_size = 10\n",
        "maze = np.zeros((maze_size, maze_size), dtype=int)\n",
        "\n",
        "# Define custom walls (1 indicates a wall)\n",
        "# Example: Add some walls manually\n",
        "walls = [\n",
        "    (0, 4), (1, 4), (2, 4),(2,5),\n",
        "    (4, 7), (4, 8), (4, 9),(5,7),\n",
        "    (4, 0), (4, 1), (4, 2),(5,2),\n",
        "    (7, 5), (8, 5), (9, 5),(7,4)\n",
        "]\n",
        "for wall in walls:\n",
        "    maze[wall] = 1\n",
        "\n",
        "# Randomly initialize agents (2 indicates an agent)\n",
        "num_agents = 4\n",
        "agents = []\n",
        "while len(agents) < num_agents:\n",
        "    x, y = random.randint(0, maze_size-1), random.randint(0, maze_size-1)\n",
        "    if maze[x, y] == 0:  # Ensure the position is free\n",
        "        agents.append((x, y))\n",
        "        maze[x, y] = 2\n",
        "\n",
        "# Define custom destinations (3 indicates a destination)\n",
        "destinations = [(1, 5), (5, 8), (5, 1), (8, 4)]\n",
        "for dest in destinations:\n",
        "    if maze[dest] == 0:  # Ensure the position is free\n",
        "        maze[dest] = 3\n",
        "\n",
        "\n",
        "\n",
        "# Print agent and destination positions\n",
        "print(\"\\nAgents' positions (row, column):\", agents)\n",
        "print(\"Destinations' positions (row, column):\", destinations)\n",
        "\n",
        "# Define colors for agents\n",
        "agent_colors = ['red', 'blue', 'green', 'purple']\n",
        "\n",
        "# Function to plot the maze\n",
        "def plot_maze(maze, agents, destinations):\n",
        "    fig, ax = plt.subplots(figsize=(8, 8))\n",
        "    ax.set_xlim(0, maze_size)\n",
        "    ax.set_ylim(0, maze_size)\n",
        "\n",
        "    # Draw the grid\n",
        "    for x in range(maze_size):\n",
        "        for y in range(maze_size):\n",
        "            if maze[x, y] == 1:  # Walls\n",
        "                ax.add_patch(patches.Rectangle((y, maze_size-x-1), 1, 1, color='brown'))\n",
        "            elif maze[x, y] == 2:  # Agents\n",
        "                agent_index = agents.index((x, y))\n",
        "                ax.add_patch(patches.Circle((y+0.5, maze_size-x-1+0.5), 0.3, color=agent_colors[agent_index]))\n",
        "            elif maze[x, y] == 3:  # Destinations\n",
        "                agent_index = destinations.index((x, y))\n",
        "                color = agent_colors[agent_index]\n",
        "                ax.plot(y+0.5, maze_size-x-1+0.5, marker='x', color=color, markersize=15, markeredgewidth=3)\n",
        "\n",
        "    # Draw grid lines\n",
        "    for i in range(maze_size+1):\n",
        "        ax.plot([0, maze_size], [i, i], color='black', linewidth=0.5)\n",
        "        ax.plot([i, i], [0, maze_size], color='black', linewidth=0.5)\n",
        "\n",
        "    ax.set_aspect('equal')\n",
        "    ax.axis('off')  # Turn off axes for a cleaner look\n",
        "    plt.title(\"Maze Visualization\")\n",
        "    plt.show()\n",
        "\n",
        "# Call the plotting function\n",
        "plot_maze(maze, agents, destinations)\n"
      ]
    },
    {
      "cell_type": "markdown",
      "source": [
        "# Q - learning BASED SOLUTION"
      ],
      "metadata": {
        "id": "EesN-Zdx-A5J"
      }
    },
    {
      "cell_type": "code",
      "source": [
        "import numpy as np\n",
        "from collections import defaultdict\n",
        "\n",
        "# Actions: [Stay, Up, Down, Left, Right]\n",
        "ACTIONS = [(0, 0), (-1, 0), (1, 0), (0, -1), (0, 1)]\n",
        "ACTION_NAMES = ['Stay', 'Up', 'Down', 'Left', 'Right']\n",
        "NUM_ACTIONS = len(ACTIONS)\n",
        "GAMMA = 0.9  # Discount factor\n",
        "ALPHA = 0.1  # Learning rate\n",
        "EPSILON = 0.2\n",
        "MAX_EPISODES = 500\n",
        "\n",
        "# Maze environment\n",
        "class MultiAgentMazeMinMax:\n",
        "    def __init__(self, maze, agents, destinations):\n",
        "        self.maze = maze\n",
        "        self.agents = agents\n",
        "        self.destinations = destinations\n",
        "        self.num_agents = len(agents)\n",
        "        self.state = tuple(agents)\n",
        "        self.steps_taken = [0] * self.num_agents  # Track steps per agent\n",
        "\n",
        "    def is_valid_position(self, pos):\n",
        "        x, y = pos\n",
        "        return 0 <= x < maze_size and 0 <= y < maze_size and self.maze[x, y] != 1\n",
        "\n",
        "    def reset(self):\n",
        "        self.state = tuple(agents)\n",
        "        self.steps_taken = [0] * self.num_agents\n",
        "        return self.state\n",
        "\n",
        "    def step(self, actions):\n",
        "        next_state = list(self.state)\n",
        "        rewards = []\n",
        "        for i, action in enumerate(actions):\n",
        "            current_pos = self.state[i]\n",
        "            move = ACTIONS[action]\n",
        "            new_pos = (current_pos[0] + move[0], current_pos[1] + move[1])\n",
        "\n",
        "            # Check if new position is valid\n",
        "            if self.is_valid_position(new_pos) and new_pos not in next_state:\n",
        "                next_state[i] = new_pos\n",
        "\n",
        "            # Increment step count\n",
        "            self.steps_taken[i] += 1\n",
        "\n",
        "            # Calculate reward\n",
        "            if new_pos == self.destinations[i]:\n",
        "                reward = 10  # Reached goal\n",
        "            else:\n",
        "                reward = -1  # Step penalty\n",
        "            rewards.append(reward)\n",
        "\n",
        "        self.state = tuple(next_state)\n",
        "        done = all(next_state[i] == self.destinations[i] for i in range(self.num_agents))\n",
        "        return self.state, rewards, done, max(self.steps_taken)\n",
        "\n",
        "# Q-learning with max-time minimization\n",
        "def train_agents_minmax(maze_env):\n",
        "    q_tables = [defaultdict(lambda: np.zeros(NUM_ACTIONS)) for _ in range(maze_env.num_agents)]\n",
        "    min_max_time = float('inf')  # Track the minimum maximum time\n",
        "\n",
        "    for episode in range(MAX_EPISODES):\n",
        "        state = maze_env.reset()\n",
        "        done = False\n",
        "\n",
        "        while not done:\n",
        "            actions = []\n",
        "            for i in range(maze_env.num_agents):\n",
        "                if np.random.rand() < EPSILON:\n",
        "                    action = np.random.choice(NUM_ACTIONS)  # Explore\n",
        "                else:\n",
        "                    action = np.argmax(q_tables[i][state[i]])  # Exploit\n",
        "                actions.append(action)\n",
        "\n",
        "            next_state, rewards, done, max_time = maze_env.step(actions)\n",
        "\n",
        "            # Update Q-values\n",
        "            for i in range(maze_env.num_agents):\n",
        "                current_q = q_tables[i][state[i]][actions[i]]\n",
        "                next_max_q = np.max(q_tables[i][next_state[i]])\n",
        "                q_tables[i][state[i]][actions[i]] = current_q + ALPHA * (\n",
        "                    rewards[i] + GAMMA * next_max_q - current_q\n",
        "                )\n",
        "\n",
        "            state = next_state\n",
        "\n",
        "        # Update minimum max time\n",
        "        min_max_time = min(min_max_time, max_time)\n",
        "\n",
        "    return q_tables, min_max_time\n",
        "\n",
        "# Train and evaluate\n",
        "maze_env = MultiAgentMazeMinMax(maze, agents, destinations)\n",
        "q_tables, min_max_time = train_agents_minmax(maze_env)\n",
        "\n",
        "print(f\"\\nMinimum maximum time achieved: {min_max_time}\")\n",
        "\n"
      ],
      "metadata": {
        "colab": {
          "base_uri": "https://localhost:8080/"
        },
        "id": "NYj1ZfGp1kdJ",
        "outputId": "2112d6d9-6c1b-4db5-b9f8-531013b6b198"
      },
      "execution_count": 40,
      "outputs": [
        {
          "output_type": "stream",
          "name": "stdout",
          "text": [
            "\n",
            "Minimum maximum time achieved: 10\n"
          ]
        }
      ]
    },
    {
      "cell_type": "markdown",
      "source": [
        "## PRINTING THE OPTIMAL PATH"
      ],
      "metadata": {
        "id": "8ulSbtXb-IIx"
      }
    },
    {
      "cell_type": "code",
      "source": [
        "def print_optimal_paths(maze_env, q_tables):\n",
        "    \"\"\"\n",
        "    Print the optimal path taken by each agent based on their respective Q-table.\n",
        "    \"\"\"\n",
        "    for i in range(maze_env.num_agents):\n",
        "        print(f\"\\nAgent {i+1} (Color: {agent_colors[i]}):\")\n",
        "        current_pos = maze_env.agents[i]\n",
        "        destination = maze_env.destinations[i]\n",
        "        path = [current_pos]\n",
        "\n",
        "        while current_pos != destination:\n",
        "            # Get the best action from the Q-table\n",
        "            best_action_index = np.argmax(q_tables[i][current_pos])\n",
        "            move = ACTIONS[best_action_index]\n",
        "            next_pos = (current_pos[0] + move[0], current_pos[1] + move[1])\n",
        "\n",
        "            # Check if the move is valid\n",
        "            if maze_env.is_valid_position(next_pos):\n",
        "                current_pos = next_pos\n",
        "                path.append(current_pos)\n",
        "            else:\n",
        "                print(f\"Invalid move encountered at {current_pos}. Exiting.\")\n",
        "                break\n",
        "\n",
        "        print(f\"Optimal Path: {path}\")\n",
        "\n",
        "print_optimal_paths(maze_env,q_tables)\n"
      ],
      "metadata": {
        "colab": {
          "base_uri": "https://localhost:8080/"
        },
        "id": "Kp3Bqh_D5_sH",
        "outputId": "3f8f2408-15be-4da4-f67f-0ad554d3fa56"
      },
      "execution_count": 41,
      "outputs": [
        {
          "output_type": "stream",
          "name": "stdout",
          "text": [
            "\n",
            "Agent 1 (Color: red):\n",
            "Optimal Path: [(5, 9), (6, 9), (6, 8), (6, 7), (6, 6), (5, 6), (4, 6), (3, 6), (2, 6), (1, 6), (1, 5)]\n",
            "\n",
            "Agent 2 (Color: blue):\n",
            "Optimal Path: [(6, 8), (5, 8)]\n",
            "\n",
            "Agent 3 (Color: green):\n",
            "Optimal Path: [(4, 3), (5, 3), (6, 3), (6, 2), (6, 1), (5, 1)]\n",
            "\n",
            "Agent 4 (Color: purple):\n",
            "Optimal Path: [(3, 7), (3, 6), (4, 6), (4, 5), (4, 4), (4, 3), (5, 3), (6, 3), (7, 3), (8, 3), (8, 4)]\n"
          ]
        }
      ]
    },
    {
      "cell_type": "markdown",
      "source": [
        "## VISUALIZING THE OPTIMAL PATH ON THE MAZE"
      ],
      "metadata": {
        "id": "nLsg2l-v-NuD"
      }
    },
    {
      "cell_type": "code",
      "source": [
        "def visualize_optimal_paths_with_arrows(maze, maze_env, q_tables):\n",
        "    \"\"\"\n",
        "    Visualize the maze with optimal paths for all agents, including arrows for direction.\n",
        "    \"\"\"\n",
        "    # Create a copy of the maze for visualization\n",
        "    path_grid = np.copy(maze)\n",
        "    agent_colors = ['red', 'blue', 'green', 'purple']\n",
        "    fig, ax = plt.subplots(figsize=(8, 8))\n",
        "\n",
        "    # Draw the maze grid\n",
        "    for x in range(maze_size):\n",
        "        for y in range(maze_size):\n",
        "            if maze[x, y] == 1:  # Wall\n",
        "                ax.add_patch(patches.Rectangle((y, maze_size - x - 1), 1, 1, color='brown'))\n",
        "            elif maze[x, y] == 3:  # Destination\n",
        "                agent_index = maze_env.destinations.index((x, y))\n",
        "                color = agent_colors[agent_index]\n",
        "                ax.plot(y + 0.5, maze_size - x - 1 + 0.5, marker='x', color=color, markersize=15, markeredgewidth=3)\n",
        "\n",
        "    # Compute and visualize paths for all agents\n",
        "    for i in range(maze_env.num_agents):\n",
        "        current_pos = maze_env.agents[i]\n",
        "        destination = maze_env.destinations[i]\n",
        "        path_x, path_y = [], []\n",
        "\n",
        "        # Collect path coordinates\n",
        "        path_x.append(current_pos[1] + 0.5)\n",
        "        path_y.append(maze_size - current_pos[0] - 1 + 0.5)\n",
        "\n",
        "        while current_pos != destination:\n",
        "            best_action_index = np.argmax(q_tables[i][current_pos])\n",
        "            move = ACTIONS[best_action_index]\n",
        "            next_pos = (current_pos[0] + move[0], current_pos[1] + move[1])\n",
        "\n",
        "            if maze_env.is_valid_position(next_pos):\n",
        "                # Add arrow for direction\n",
        "                ax.arrow(\n",
        "                    current_pos[1] + 0.5,\n",
        "                    maze_size - current_pos[0] - 1 + 0.5,\n",
        "                    move[1] * 0.8,  # Scaled to fit inside the grid\n",
        "                    -move[0] * 0.8,  # Negative because of grid's flipped y-axis\n",
        "                    head_width=0.2,\n",
        "                    head_length=0.2,\n",
        "                    fc=agent_colors[i],\n",
        "                    ec=agent_colors[i],\n",
        "                )\n",
        "                current_pos = next_pos\n",
        "                path_x.append(current_pos[1] + 0.5)\n",
        "                path_y.append(maze_size - current_pos[0] - 1 + 0.5)\n",
        "            else:\n",
        "                print(f\"Invalid move encountered for Agent {i+1} at {current_pos}.\")\n",
        "                break\n",
        "\n",
        "        # Plot the path for the agent\n",
        "        ax.plot(path_x, path_y, color=agent_colors[i], linestyle='-', linewidth=2, label=f'Agent {i+1}')\n",
        "        ax.add_patch(patches.Circle((path_x[0], path_y[0]), 0.3, color=agent_colors[i]))  # Start\n",
        "        ax.add_patch(patches.Circle((path_x[-1], path_y[-1]), 0.3, color=agent_colors[i], alpha=0.5))  # Goal\n",
        "\n",
        "    # Add grid lines\n",
        "    for i in range(maze_size + 1):\n",
        "        ax.plot([0, maze_size], [i, i], color='black', linewidth=0.5)\n",
        "        ax.plot([i, i], [0, maze_size], color='black', linewidth=0.5)\n",
        "\n",
        "    ax.set_aspect('equal')\n",
        "    ax.axis('off')\n",
        "    ax.legend(loc='upper right', fontsize=8)\n",
        "    plt.title(\"Optimal Paths with Direction for All Agents\")\n",
        "    plt.show()\n",
        "\n",
        "# Visualize the optimal paths with arrows\n",
        "visualize_optimal_paths_with_arrows(maze, maze_env, q_tables)\n"
      ],
      "metadata": {
        "colab": {
          "base_uri": "https://localhost:8080/",
          "height": 675
        },
        "id": "x5znIDbC6cOH",
        "outputId": "5a21b1c0-7ac7-4ae7-8540-dad91c4f469a"
      },
      "execution_count": 42,
      "outputs": [
        {
          "output_type": "display_data",
          "data": {
            "text/plain": [
              "<Figure size 800x800 with 1 Axes>"
            ],
            "image/png": "[encoded data removed]"
          },
          "metadata": {}
        }
      ]
    },
    {
      "cell_type": "markdown",
      "source": [
        "## BONUS PROBLEM\n",
        "Randomly initializing the agent's position at the beginning of each episode"
      ],
      "metadata": {
        "id": "aWGYSG8f-TT-"
      }
    },
    {
      "cell_type": "code",
      "source": [
        "import numpy as np\n",
        "from collections import defaultdict\n",
        "import random\n",
        "\n",
        "# Actions: [Stay, Up, Down, Left, Right]\n",
        "ACTIONS = [(0, 0), (-1, 0), (1, 0), (0, -1), (0, 1)]\n",
        "NUM_ACTIONS = len(ACTIONS)\n",
        "GAMMA = 0.9  # Discount factor\n",
        "ALPHA = 0.1  # Learning rate\n",
        "EPSILON = 0.2  # Exploration rate\n",
        "MAX_EPISODES = 500\n",
        "\n",
        "# Maze environment with randomized starting positions\n",
        "class MultiAgentMazeMAPF:\n",
        "    def __init__(self, maze, destinations):\n",
        "        self.maze = maze\n",
        "        self.destinations = destinations\n",
        "        self.num_agents = len(destinations)\n",
        "        self.maze_size = len(maze)\n",
        "        self.state = None\n",
        "        self.reset()\n",
        "\n",
        "    def is_valid_position(self, pos):\n",
        "        x, y = pos\n",
        "        return 0 <= x < self.maze_size and 0 <= y < self.maze_size and self.maze[x, y] != 1\n",
        "\n",
        "    def reset(self):\n",
        "        # Randomize starting positions for agents\n",
        "        self.agents = []\n",
        "        while len(self.agents) < self.num_agents:\n",
        "            x, y = random.randint(0, self.maze_size - 1), random.randint(0, self.maze_size - 1)\n",
        "            if self.is_valid_position((x, y)) and (x, y) not in self.agents:\n",
        "                self.agents.append((x, y))\n",
        "        self.state = tuple(self.agents)\n",
        "        return self.state\n",
        "\n",
        "    def step(self, actions):\n",
        "        next_state = list(self.state)\n",
        "        rewards = []\n",
        "        for i, action in enumerate(actions):\n",
        "            current_pos = self.state[i]\n",
        "            move = ACTIONS[action]\n",
        "            new_pos = (current_pos[0] + move[0], current_pos[1] + move[1])\n",
        "\n",
        "            # Check validity and move if possible\n",
        "            if self.is_valid_position(new_pos) and new_pos not in next_state:\n",
        "                next_state[i] = new_pos\n",
        "\n",
        "            # Calculate reward\n",
        "            if next_state[i] == self.destinations[i]:\n",
        "                reward = 10  # Goal reached\n",
        "            else:\n",
        "                reward = -1  # Step penalty\n",
        "            rewards.append(reward)\n",
        "\n",
        "        self.state = tuple(next_state)\n",
        "        done = all(next_state[i] == self.destinations[i] for i in range(self.num_agents))\n",
        "        return self.state, rewards, done\n",
        "\n",
        "# Q-learning with MAPF\n",
        "def train_agents_mapf(maze_env):\n",
        "    q_tables = [defaultdict(lambda: np.zeros(NUM_ACTIONS)) for _ in range(maze_env.num_agents)]\n",
        "    min_max_time = float('inf')  # Track minimum max time across episodes\n",
        "\n",
        "    for episode in range(MAX_EPISODES):\n",
        "        state = maze_env.reset()\n",
        "        done = False\n",
        "        steps = 0\n",
        "\n",
        "        while not done:\n",
        "            actions = []\n",
        "            for i in range(maze_env.num_agents):\n",
        "                if np.random.rand() < EPSILON:\n",
        "                    action = np.random.choice(NUM_ACTIONS)  # Explore\n",
        "                else:\n",
        "                    action = np.argmax(q_tables[i][state[i]])  # Exploit\n",
        "                actions.append(action)\n",
        "\n",
        "            next_state, rewards, done = maze_env.step(actions)\n",
        "\n",
        "            # Update Q-values\n",
        "            for i in range(maze_env.num_agents):\n",
        "                current_q = q_tables[i][state[i]][actions[i]]\n",
        "                next_max_q = np.max(q_tables[i][next_state[i]])\n",
        "                q_tables[i][state[i]][actions[i]] = current_q + ALPHA * (\n",
        "                    rewards[i] + GAMMA * next_max_q - current_q\n",
        "                )\n",
        "\n",
        "            state = next_state\n",
        "            steps += 1\n",
        "\n",
        "        min_max_time = min(min_max_time, steps)\n",
        "\n",
        "    return q_tables, min_max_time\n",
        "\n",
        "# Initialize the maze and train agents\n",
        "maze_env = MultiAgentMazeMAPF(maze, destinations)\n",
        "q_tables, min_max_time = train_agents_mapf(maze_env)\n",
        "\n",
        "print(f\"\\nMinimum maximum time achieved: {min_max_time}\")\n"
      ],
      "metadata": {
        "colab": {
          "base_uri": "https://localhost:8080/"
        },
        "id": "1fQcMKp79ZoX",
        "outputId": "5ca5eec3-03cc-4fb4-ffcd-60495a6cc091"
      },
      "execution_count": 44,
      "outputs": [
        {
          "output_type": "stream",
          "name": "stdout",
          "text": [
            "\n",
            "Minimum maximum time achieved: 7\n"
          ]
        }
      ]
    }
  ]
}