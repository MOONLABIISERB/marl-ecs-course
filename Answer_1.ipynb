{
 "cells": [
  {
   "cell_type": "markdown",
   "metadata": {},
   "source": [
    "# Import"
   ]
  },
  {
   "cell_type": "code",
   "execution_count": null,
   "metadata": {},
   "outputs": [],
   "source": [
    "import numpy as np"
   ]
  },
  {
   "cell_type": "markdown",
   "metadata": {},
   "source": [
    "# Value Iteration"
   ]
  },
  {
   "cell_type": "code",
   "execution_count": 9,
   "metadata": {},
   "outputs": [
    {
     "data": {
      "text/plain": [
       "(array([18.95136939, 20.94056457, 19.80744364]),\n",
       " array(['Attend class', 'Attend class', 'Attend class'], dtype='<U12'),\n",
       " 138)"
      ]
     },
     "execution_count": 9,
     "metadata": {},
     "output_type": "execute_result"
    }
   ],
   "source": [
    "gamma = 0.9 # Otherwise it taking much time\n",
    "threshold = 1e-6  \n",
    "\n",
    "# Initializing the Value Function \n",
    "V = np.array([0.0, 0.0, 0.0])  \n",
    "\n",
    "# Transition probability matrices for each action\n",
    "P_attend_class = np.array([\n",
    "    [0.5, 0.5, 0.0], \n",
    "    [0.0, 0.7, 0.3],  \n",
    "    [0.3, 0.6, 0.1]  \n",
    "])\n",
    "\n",
    "P_eat_food = np.array([\n",
    "    [0.0, 0.0, 1.0],  \n",
    "    [0.2, 0.0, 0.8], \n",
    "    [0.0, 0.0, 1.0]  \n",
    "])\n",
    "\n",
    "# Rewards for each state\n",
    "R = np.array([-1, 3, 1])  \n",
    "\n",
    "# Perform Value Iteration\n",
    "iteration = 0\n",
    "while True:\n",
    "    V_old = V.copy()  \n",
    "    V_attend_class = np.sum(P_attend_class * (R + gamma * V), axis=1)\n",
    "    V_eat_food = np.sum(P_eat_food * (R + gamma * V), axis=1)\n",
    "    V = np.maximum(V_attend_class, V_eat_food)  \n",
    "\n",
    "    # Check for convergence\n",
    "    if np.max(np.abs(V - V_old)) < threshold:\n",
    "        break\n",
    "    iteration += 1\n",
    "\n",
    "# Extract the optimal policy\n",
    "policy = np.where(V_attend_class >= V_eat_food, 'Attend class', 'Eat food')\n",
    "\n",
    "V, policy, iteration\n"
   ]
  },
  {
   "cell_type": "markdown",
   "metadata": {},
   "source": [
    "# Policy Iteration"
   ]
  },
  {
   "cell_type": "code",
   "execution_count": 12,
   "metadata": {},
   "outputs": [
    {
     "data": {
      "text/plain": [
       "(array(['Attend class', 'Attend class', 'Attend class'], dtype='<U12'), 0)"
      ]
     },
     "execution_count": 12,
     "metadata": {},
     "output_type": "execute_result"
    }
   ],
   "source": [
    "# Initialize the policy randomly: starting with \"Attend class\" (0) for all states\n",
    "policy = np.array([0, 0, 0])\n",
    "\n",
    "V = np.array([0.0, 0.0, 0.0]) \n",
    "\n",
    "def policy_evaluation(policy, P_attend_class, P_eat_food, R, gamma, threshold):\n",
    "    while True:\n",
    "        V_old = V.copy()\n",
    "        for s in range(3):\n",
    "            if policy[s] == 0:  \n",
    "                V[s] = np.sum(P_attend_class[s] * (R + gamma * V_old))\n",
    "            else: \n",
    "                V[s] = np.sum(P_eat_food[s] * (R + gamma * V_old))\n",
    "        \n",
    "        # Check for convergence\n",
    "        if np.max(np.abs(V - V_old)) < threshold:\n",
    "            break\n",
    "    return V\n",
    "\n",
    "def policy_improvement(V, P_attend_class, P_eat_food, R, gamma):\n",
    "    new_policy = policy.copy()\n",
    "    for s in range(3):  \n",
    "        V_attend_class = np.sum(P_attend_class[s] * (R + gamma * V))\n",
    "        V_eat_food = np.sum(P_eat_food[s] * (R + gamma * V))\n",
    "        new_policy[s] = 0 if V_attend_class >= V_eat_food else 1  \n",
    "    return new_policy\n",
    "\n",
    "iteration = 0\n",
    "while True:\n",
    "    V = policy_evaluation(policy, P_attend_class, P_eat_food, R, gamma, threshold)\n",
    "\n",
    "    new_policy = policy_improvement(V, P_attend_class, P_eat_food, R, gamma)\n",
    "\n",
    "    if np.array_equal(new_policy, policy):\n",
    "        break\n",
    "    policy = new_policy\n",
    "    iteration += 1\n",
    "\n",
    "policy_labels = np.where(policy == 0, 'Attend class', 'Eat food')\n",
    "policy_labels, iteration\n"
   ]
  }
 ],
 "metadata": {
  "kernelspec": {
   "display_name": "Python 3",
   "language": "python",
   "name": "python3"
  },
  "language_info": {
   "codemirror_mode": {
    "name": "ipython",
    "version": 3
   },
   "file_extension": ".py",
   "mimetype": "text/x-python",
   "name": "python",
   "nbconvert_exporter": "python",
   "pygments_lexer": "ipython3",
   "version": "3.11.5"
  }
 },
 "nbformat": 4,
 "nbformat_minor": 2
}
