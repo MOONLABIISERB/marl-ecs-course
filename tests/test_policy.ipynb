{
 "cells": [
  {
   "cell_type": "code",
   "execution_count": 7,
   "metadata": {},
   "outputs": [],
   "source": [
    "import numpy as np\n",
    "from marl.utils.rl.base.policy import Policy\n",
    "from marl.utils.rl.base.params import State, Action\n",
    "from assignments.a1 import StudentState, StudentAction\n",
    "from rich.console import Console\n",
    "import json"
   ]
  },
  {
   "cell_type": "code",
   "execution_count": 6,
   "metadata": {},
   "outputs": [],
   "source": [
    "console = Console()"
   ]
  },
  {
   "cell_type": "code",
   "execution_count": 4,
   "metadata": {},
   "outputs": [],
   "source": [
    "hostel = StudentState(location=\"hostel\")\n",
    "canteen = StudentState(location=\"canteen\")\n",
    "acad_bldg = StudentState(location=\"acad_bldg\")\n",
    "\n",
    "states = [hostel, canteen, acad_bldg]\n",
    "\n",
    "eat = StudentAction(act_name=\"eat\")\n",
    "study = StudentAction(act_name=\"study\")\n",
    "\n",
    "actions = [eat, study]"
   ]
  },
  {
   "cell_type": "code",
   "execution_count": 22,
   "metadata": {},
   "outputs": [],
   "source": [
    "def print_policy(policy: Policy[StudentState, StudentAction]) -> None:\n",
    "    console.print_json(\n",
    "        json.dumps(\n",
    "            {\n",
    "                s._location: {\n",
    "                    a._act_name: np.round(policy.get_proba(s0=s, a=a), 3)\n",
    "                    for a in actions\n",
    "                }\n",
    "                for s in states\n",
    "            }\n",
    "        )\n",
    "    )"
   ]
  },
  {
   "cell_type": "code",
   "execution_count": 23,
   "metadata": {},
   "outputs": [
    {
     "data": {
      "text/html": [
       "<pre style=\"white-space:pre;overflow-x:auto;line-height:normal;font-family:Menlo,'DejaVu Sans Mono',consolas,'Courier New',monospace\"><span style=\"font-weight: bold\">{</span>\n",
       "  <span style=\"color: #000080; text-decoration-color: #000080; font-weight: bold\">\"hostel\"</span>: <span style=\"font-weight: bold\">{</span>\n",
       "    <span style=\"color: #000080; text-decoration-color: #000080; font-weight: bold\">\"eat\"</span>: <span style=\"color: #008080; text-decoration-color: #008080; font-weight: bold\">0.574</span>,\n",
       "    <span style=\"color: #000080; text-decoration-color: #000080; font-weight: bold\">\"study\"</span>: <span style=\"color: #008080; text-decoration-color: #008080; font-weight: bold\">0.426</span>\n",
       "  <span style=\"font-weight: bold\">}</span>,\n",
       "  <span style=\"color: #000080; text-decoration-color: #000080; font-weight: bold\">\"canteen\"</span>: <span style=\"font-weight: bold\">{</span>\n",
       "    <span style=\"color: #000080; text-decoration-color: #000080; font-weight: bold\">\"eat\"</span>: <span style=\"color: #008080; text-decoration-color: #008080; font-weight: bold\">0.32</span>,\n",
       "    <span style=\"color: #000080; text-decoration-color: #000080; font-weight: bold\">\"study\"</span>: <span style=\"color: #008080; text-decoration-color: #008080; font-weight: bold\">0.68</span>\n",
       "  <span style=\"font-weight: bold\">}</span>,\n",
       "  <span style=\"color: #000080; text-decoration-color: #000080; font-weight: bold\">\"acad_bldg\"</span>: <span style=\"font-weight: bold\">{</span>\n",
       "    <span style=\"color: #000080; text-decoration-color: #000080; font-weight: bold\">\"eat\"</span>: <span style=\"color: #008080; text-decoration-color: #008080; font-weight: bold\">0.153</span>,\n",
       "    <span style=\"color: #000080; text-decoration-color: #000080; font-weight: bold\">\"study\"</span>: <span style=\"color: #008080; text-decoration-color: #008080; font-weight: bold\">0.847</span>\n",
       "  <span style=\"font-weight: bold\">}</span>\n",
       "<span style=\"font-weight: bold\">}</span>\n",
       "</pre>\n"
      ],
      "text/plain": [
       "\u001b[1m{\u001b[0m\n",
       "  \u001b[1;34m\"hostel\"\u001b[0m: \u001b[1m{\u001b[0m\n",
       "    \u001b[1;34m\"eat\"\u001b[0m: \u001b[1;36m0.574\u001b[0m,\n",
       "    \u001b[1;34m\"study\"\u001b[0m: \u001b[1;36m0.426\u001b[0m\n",
       "  \u001b[1m}\u001b[0m,\n",
       "  \u001b[1;34m\"canteen\"\u001b[0m: \u001b[1m{\u001b[0m\n",
       "    \u001b[1;34m\"eat\"\u001b[0m: \u001b[1;36m0.32\u001b[0m,\n",
       "    \u001b[1;34m\"study\"\u001b[0m: \u001b[1;36m0.68\u001b[0m\n",
       "  \u001b[1m}\u001b[0m,\n",
       "  \u001b[1;34m\"acad_bldg\"\u001b[0m: \u001b[1m{\u001b[0m\n",
       "    \u001b[1;34m\"eat\"\u001b[0m: \u001b[1;36m0.153\u001b[0m,\n",
       "    \u001b[1;34m\"study\"\u001b[0m: \u001b[1;36m0.847\u001b[0m\n",
       "  \u001b[1m}\u001b[0m\n",
       "\u001b[1m}\u001b[0m\n"
      ]
     },
     "metadata": {},
     "output_type": "display_data"
    }
   ],
   "source": [
    "policy = Policy[StudentState, StudentAction](states=states, actions=actions)\n",
    "print_policy(policy=policy)"
   ]
  },
  {
   "cell_type": "code",
   "execution_count": 21,
   "metadata": {},
   "outputs": [
    {
     "data": {
      "text/html": [
       "<pre style=\"white-space:pre;overflow-x:auto;line-height:normal;font-family:Menlo,'DejaVu Sans Mono',consolas,'Courier New',monospace\"><span style=\"font-weight: bold\">{</span>\n",
       "  <span style=\"color: #000080; text-decoration-color: #000080; font-weight: bold\">\"hostel\"</span>: <span style=\"font-weight: bold\">{</span>\n",
       "    <span style=\"color: #000080; text-decoration-color: #000080; font-weight: bold\">\"eat\"</span>: <span style=\"color: #008080; text-decoration-color: #008080; font-weight: bold\">1.0</span>,\n",
       "    <span style=\"color: #000080; text-decoration-color: #000080; font-weight: bold\">\"study\"</span>: <span style=\"color: #008080; text-decoration-color: #008080; font-weight: bold\">0.0</span>\n",
       "  <span style=\"font-weight: bold\">}</span>,\n",
       "  <span style=\"color: #000080; text-decoration-color: #000080; font-weight: bold\">\"canteen\"</span>: <span style=\"font-weight: bold\">{</span>\n",
       "    <span style=\"color: #000080; text-decoration-color: #000080; font-weight: bold\">\"eat\"</span>: <span style=\"color: #008080; text-decoration-color: #008080; font-weight: bold\">0.3</span>,\n",
       "    <span style=\"color: #000080; text-decoration-color: #000080; font-weight: bold\">\"study\"</span>: <span style=\"color: #008080; text-decoration-color: #008080; font-weight: bold\">0.7</span>\n",
       "  <span style=\"font-weight: bold\">}</span>,\n",
       "  <span style=\"color: #000080; text-decoration-color: #000080; font-weight: bold\">\"acad_bldg\"</span>: <span style=\"font-weight: bold\">{</span>\n",
       "    <span style=\"color: #000080; text-decoration-color: #000080; font-weight: bold\">\"eat\"</span>: <span style=\"color: #008080; text-decoration-color: #008080; font-weight: bold\">0.349</span>,\n",
       "    <span style=\"color: #000080; text-decoration-color: #000080; font-weight: bold\">\"study\"</span>: <span style=\"color: #008080; text-decoration-color: #008080; font-weight: bold\">0.651</span>\n",
       "  <span style=\"font-weight: bold\">}</span>\n",
       "<span style=\"font-weight: bold\">}</span>\n",
       "</pre>\n"
      ],
      "text/plain": [
       "\u001b[1m{\u001b[0m\n",
       "  \u001b[1;34m\"hostel\"\u001b[0m: \u001b[1m{\u001b[0m\n",
       "    \u001b[1;34m\"eat\"\u001b[0m: \u001b[1;36m1.0\u001b[0m,\n",
       "    \u001b[1;34m\"study\"\u001b[0m: \u001b[1;36m0.0\u001b[0m\n",
       "  \u001b[1m}\u001b[0m,\n",
       "  \u001b[1;34m\"canteen\"\u001b[0m: \u001b[1m{\u001b[0m\n",
       "    \u001b[1;34m\"eat\"\u001b[0m: \u001b[1;36m0.3\u001b[0m,\n",
       "    \u001b[1;34m\"study\"\u001b[0m: \u001b[1;36m0.7\u001b[0m\n",
       "  \u001b[1m}\u001b[0m,\n",
       "  \u001b[1;34m\"acad_bldg\"\u001b[0m: \u001b[1m{\u001b[0m\n",
       "    \u001b[1;34m\"eat\"\u001b[0m: \u001b[1;36m0.349\u001b[0m,\n",
       "    \u001b[1;34m\"study\"\u001b[0m: \u001b[1;36m0.651\u001b[0m\n",
       "  \u001b[1m}\u001b[0m\n",
       "\u001b[1m}\u001b[0m\n"
      ]
     },
     "metadata": {},
     "output_type": "display_data"
    }
   ],
   "source": [
    "policy[hostel] = eat\n",
    "print_policy(policy=policy)"
   ]
  }
 ],
 "metadata": {
  "kernelspec": {
   "display_name": ".venv",
   "language": "python",
   "name": "python3"
  },
  "language_info": {
   "codemirror_mode": {
    "name": "ipython",
    "version": 3
   },
   "file_extension": ".py",
   "mimetype": "text/x-python",
   "name": "python",
   "nbconvert_exporter": "python",
   "pygments_lexer": "ipython3",
   "version": "3.12.5"
  }
 },
 "nbformat": 4,
 "nbformat_minor": 2
}
