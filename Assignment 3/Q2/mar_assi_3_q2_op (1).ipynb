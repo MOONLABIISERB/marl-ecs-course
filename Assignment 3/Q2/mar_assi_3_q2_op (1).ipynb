Episode 240000 start positions: {0: (5, 8), 1: (5, 1), 2: (1, 5), 3: (8, 4)}
Episode 240000, Steps: 63
Episode 241000 start positions: {0: (5, 8), 1: (5, 1), 2: (1, 5), 3: (8, 4)}
Episode 241000, Steps: 328
Episode 242000 start positions: {0: (5, 8), 1: (5, 1), 2: (1, 5), 3: (8, 4)}
Episode 242000, Steps: 420
Episode 243000 start positions: {0: (5, 8), 1: (5, 1), 2: (1, 5), 3: (8, 4)}
Episode 243000, Steps: 271
Episode 244000 start positions: {0: (5, 8), 1: (5, 1), 2: (1, 5), 3: (8, 4)}
Episode 244000, Steps: 133
Episode 245000 start positions: {0: (5, 8), 1: (5, 1), 2: (1, 5), 3: (8, 4)}
Episode 245000, Steps: 239
Episode 246000 start positions: {0: (5, 8), 1: (5, 1), 2: (1, 5), 3: (8, 4)}
Episode 246000, Steps: 179
Episode 247000 start positions: {0: (5, 8), 1: (5, 1), 2: (1, 5), 3: (8, 4)}
Episode 247000, Steps: 269
Episode 248000 start positions: {0: (5, 8), 1: (5, 1), 2: (1, 5), 3: (8, 4)}
Episode 248000, Steps: 35
Episode 249000 start positions: {0: (5, 8), 1: (5, 1), 2: (1, 5), 3: (8, 4)}
Episode 249000, Steps: 173
Episode 250000 start positions: {0: (5, 8), 1: (5, 1), 2: (1, 5), 3: (8, 4)}
Episode 250000, Steps: 339
Episode 251000 start positions: {0: (5, 8), 1: (5, 1), 2: (1, 5), 3: (8, 4)}
Episode 251000, Steps: 168
Episode 252000 start positions: {0: (5, 8), 1: (5, 1), 2: (1, 5), 3: (8, 4)}
Episode 252000, Steps: 393
Episode 253000 start positions: {0: (5, 8), 1: (5, 1), 2: (1, 5), 3: (8, 4)}
Episode 253000, Steps: 314
Episode 254000 start positions: {0: (5, 8), 1: (5, 1), 2: (1, 5), 3: (8, 4)}
Episode 254000, Steps: 258
Episode 255000 start positions: {0: (5, 8), 1: (5, 1), 2: (1, 5), 3: (8, 4)}
Episode 255000, Steps: 86
Episode 256000 start positions: {0: (5, 8), 1: (5, 1), 2: (1, 5), 3: (8, 4)}
Episode 256000, Steps: 96
Episode 257000 start positions: {0: (5, 8), 1: (5, 1), 2: (1, 5), 3: (8, 4)}
Episode 257000, Steps: 141
Episode 258000 start positions: {0: (5, 8), 1: (5, 1), 2: (1, 5), 3: (8, 4)}
Episode 258000, Steps: 165
Episode 259000 start positions: {0: (5, 8), 1: (5, 1), 2: (1, 5), 3: (8, 4)}
Episode 259000, Steps: 129
Episode 260000 start positions: {0: (5, 8), 1: (5, 1), 2: (1, 5), 3: (8, 4)}
Episode 260000, Steps: 395
Episode 261000 start positions: {0: (5, 8), 1: (5, 1), 2: (1, 5), 3: (8, 4)}
Episode 261000, Steps: 206
Episode 262000 start positions: {0: (5, 8), 1: (5, 1), 2: (1, 5), 3: (8, 4)}
Episode 262000, Steps: 353
Episode 263000 start positions: {0: (5, 8), 1: (5, 1), 2: (1, 5), 3: (8, 4)}
Episode 263000, Steps: 576
Episode 264000 start positions: {0: (5, 8), 1: (5, 1), 2: (1, 5), 3: (8, 4)}
Episode 264000, Steps: 336
Episode 265000 start positions: {0: (5, 8), 1: (5, 1), 2: (1, 5), 3: (8, 4)}
Episode 265000, Steps: 120
Episode 266000 start positions: {0: (5, 8), 1: (5, 1), 2: (1, 5), 3: (8, 4)}
Episode 266000, Steps: 338
Episode 267000 start positions: {0: (5, 8), 1: (5, 1), 2: (1, 5), 3: (8, 4)}
Episode 267000, Steps: 100
Episode 268000 start positions: {0: (5, 8), 1: (5, 1), 2: (1, 5), 3: (8, 4)}
Episode 268000, Steps: 215
Episode 269000 start positions: {0: (5, 8), 1: (5, 1), 2: (1, 5), 3: (8, 4)}
Episode 269000, Steps: 231
Episode 270000 start positions: {0: (5, 8), 1: (5, 1), 2: (1, 5), 3: (8, 4)}
Episode 270000, Steps: 183
Episode 271000 start positions: {0: (5, 8), 1: (5, 1), 2: (1, 5), 3: (8, 4)}
Episode 271000, Steps: 486
Episode 272000 start positions: {0: (5, 8), 1: (5, 1), 2: (1, 5), 3: (8, 4)}
Episode 272000, Steps: 49
Episode 273000 start positions: {0: (5, 8), 1: (5, 1), 2: (1, 5), 3: (8, 4)}
Episode 273000, Steps: 337
Episode 274000 start positions: {0: (5, 8), 1: (5, 1), 2: (1, 5), 3: (8, 4)}
Episode 274000, Steps: 236
Episode 275000 start positions: {0: (5, 8), 1: (5, 1), 2: (1, 5), 3: (8, 4)}
Episode 275000, Steps: 161
Episode 276000 start positions: {0: (5, 8), 1: (5, 1), 2: (1, 5), 3: (8, 4)}
Episode 276000, Steps: 186
Episode 277000 start positions: {0: (5, 8), 1: (5, 1), 2: (1, 5), 3: (8, 4)}
Episode 277000, Steps: 694
Episode 278000 start positions: {0: (5, 8), 1: (5, 1), 2: (1, 5), 3: (8, 4)}
Episode 278000, Steps: 39
Episode 279000 start positions: {0: (5, 8), 1: (5, 1), 2: (1, 5), 3: (8, 4)}
Episode 279000, Steps: 225
Episode 280000 start positions: {0: (5, 8), 1: (5, 1), 2: (1, 5), 3: (8, 4)}
Episode 280000, Steps: 218
Episode 281000 start positions: {0: (5, 8), 1: (5, 1), 2: (1, 5), 3: (8, 4)}
Episode 281000, Steps: 118
Episode 282000 start positions: {0: (5, 8), 1: (5, 1), 2: (1, 5), 3: (9, 3)}
Episode 282000, Steps: 700
Episode 283000 start positions: {0: (5, 8), 1: (5, 1), 2: (1, 5), 3: (8, 4)}
Episode 283000, Steps: 164
Episode 284000 start positions: {0: (5, 8), 1: (5, 1), 2: (1, 5), 3: (8, 4)}
Episode 284000, Steps: 136
Episode 285000 start positions: {0: (5, 8), 1: (5, 1), 2: (1, 5), 3: (8, 4)}
Episode 285000, Steps: 155
Episode 286000 start positions: {0: (5, 8), 1: (5, 1), 2: (1, 5), 3: (8, 2)}
Episode 286000, Steps: 700
Episode 287000 start positions: {0: (5, 8), 1: (5, 1), 2: (1, 5), 3: (8, 4)}
Episode 287000, Steps: 171
Episode 288000 start positions: {0: (5, 8), 1: (5, 1), 2: (1, 5), 3: (8, 4)}
Episode 288000, Steps: 92
Episode 289000 start positions: {0: (5, 8), 1: (5, 1), 2: (1, 5), 3: (8, 4)}
Episode 289000, Steps: 196
Episode 290000 start positions: {0: (5, 8), 1: (5, 1), 2: (1, 5), 3: (8, 4)}
Episode 290000, Steps: 63
Episode 291000 start positions: {0: (5, 8), 1: (5, 1), 2: (1, 5), 3: (8, 4)}
Episode 291000, Steps: 71
Episode 292000 start positions: {0: (5, 8), 1: (5, 1), 2: (1, 5), 3: (8, 4)}
Episode 292000, Steps: 274
Episode 293000 start positions: {0: (5, 8), 1: (5, 1), 2: (1, 5), 3: (8, 4)}
Episode 293000, Steps: 95
Episode 294000 start positions: {0: (5, 8), 1: (5, 1), 2: (1, 5), 3: (8, 4)}
Episode 294000, Steps: 700
Episode 295000 start positions: {0: (5, 8), 1: (5, 1), 2: (1, 5), 3: (8, 4)}
Episode 295000, Steps: 399
Episode 296000 start positions: {0: (5, 8), 1: (5, 1), 2: (1, 5), 3: (8, 4)}
Episode 296000, Steps: 696
Episode 297000 start positions: {0: (5, 8), 1: (5, 1), 2: (1, 5), 3: (8, 4)}
Episode 297000, Steps: 332
Episode 298000 start positions: {0: (5, 8), 1: (5, 1), 2: (1, 5), 3: (8, 4)}
Episode 298000, Steps: 534
Episode 299000 start positions: {0: (5, 8), 1: (5, 1), 2: (1, 5), 3: (6, 3)}
Episode 299000, Steps: 700
Episode 300000 start positions: {0: (5, 8), 1: (5, 1), 2: (1, 5), 3: (8, 4)}
Episode 300000, Steps: 38
Episode 301000 start positions: {0: (5, 8), 1: (5, 1), 2: (1, 5), 3: (8, 4)}
Episode 301000, Steps: 79
Episode 302000 start positions: {0: (5, 8), 1: (5, 1), 2: (1, 5), 3: (8, 4)}
Episode 302000, Steps: 194
Episode 303000 start positions: {0: (5, 8), 1: (5, 1), 2: (1, 5), 3: (8, 4)}
Episode 303000, Steps: 211
Episode 304000 start positions: {0: (5, 8), 1: (5, 1), 2: (1, 5), 3: (8, 4)}
Episode 304000, Steps: 367
Episode 305000 start positions: {0: (5, 8), 1: (5, 1), 2: (1, 5), 3: (8, 4)}
Episode 305000, Steps: 209
Episode 306000 start positions: {0: (5, 8), 1: (5, 1), 2: (1, 5), 3: (8, 4)}
Episode 306000, Steps: 175
Episode 307000 start positions: {0: (5, 8), 1: (5, 1), 2: (1, 5), 3: (8, 4)}
Episode 307000, Steps: 161
Episode 308000 start positions: {0: (5, 8), 1: (5, 1), 2: (1, 5), 3: (8, 4)}
Episode 308000, Steps: 194
Episode 309000 start positions: {0: (5, 8), 1: (5, 1), 2: (1, 5), 3: (8, 4)}
Episode 309000, Steps: 203
Episode 310000 start positions: {0: (5, 8), 1: (5, 1), 2: (1, 5), 3: (8, 4)}
Episode 310000, Steps: 147
Episode 311000 start positions: {0: (5, 8), 1: (5, 1), 2: (1, 5), 3: (8, 4)}
Episode 311000, Steps: 97
Episode 312000 start positions: {0: (5, 8), 1: (5, 1), 2: (1, 5), 3: (8, 4)}
Episode 312000, Steps: 43
Episode 313000 start positions: {0: (5, 8), 1: (5, 1), 2: (1, 5), 3: (8, 4)}
Episode 313000, Steps: 467
Episode 314000 start positions: {0: (5, 8), 1: (5, 1), 2: (1, 5), 3: (8, 4)}
Episode 314000, Steps: 114
Episode 315000 start positions: {0: (5, 8), 1: (5, 1), 2: (1, 5), 3: (8, 4)}
Episode 315000, Steps: 432
Episode 316000 start positions: {0: (5, 8), 1: (5, 1), 2: (1, 5), 3: (8, 4)}
Episode 316000, Steps: 315
Episode 317000 start positions: {0: (5, 8), 1: (5, 1), 2: (1, 5), 3: (8, 4)}
Episode 317000, Steps: 149
Episode 318000 start positions: {0: (5, 8), 1: (5, 1), 2: (1, 5), 3: (8, 3)}
Episode 318000, Steps: 700
Episode 319000 start positions: {0: (5, 8), 1: (5, 1), 2: (1, 5), 3: (8, 4)}
Episode 319000, Steps: 286
Episode 320000 start positions: {0: (5, 8), 1: (5, 1), 2: (1, 5), 3: (8, 4)}
Episode 320000, Steps: 200
Episode 321000 start positions: {0: (5, 8), 1: (5, 1), 2: (1, 5), 3: (8, 4)}
Episode 321000, Steps: 78
Episode 322000 start positions: {0: (5, 8), 1: (5, 1), 2: (1, 5), 3: (8, 4)}
Episode 322000, Steps: 160
Episode 323000 start positions: {0: (5, 8), 1: (5, 1), 2: (1, 5), 3: (8, 4)}
Episode 323000, Steps: 148
Episode 324000 start positions: {0: (5, 8), 1: (5, 1), 2: (1, 5), 3: (8, 4)}
Episode 324000, Steps: 172
Episode 325000 start positions: {0: (5, 8), 1: (5, 1), 2: (1, 5), 3: (8, 4)}
Episode 325000, Steps: 178
Episode 326000 start positions: {0: (5, 8), 1: (5, 1), 2: (1, 5), 3: (8, 4)}
Episode 326000, Steps: 403
Episode 327000 start positions: {0: (5, 8), 1: (5, 1), 2: (1, 5), 3: (8, 4)}
Episode 327000, Steps: 229
Episode 328000 start positions: {0: (5, 8), 1: (4, 3), 2: (1, 5), 3: (8, 4)}
Episode 328000, Steps: 700
Episode 329000 start positions: {0: (5, 8), 1: (5, 1), 2: (1, 5), 3: (8, 4)}
Episode 329000, Steps: 212
Episode 330000 start positions: {0: (5, 8), 1: (5, 1), 2: (1, 5), 3: (8, 4)}
Episode 330000, Steps: 181
Episode 331000 start positions: {0: (5, 8), 1: (5, 1), 2: (1, 5), 3: (8, 4)}
Episode 331000, Steps: 119
Episode 332000 start positions: {0: (5, 8), 1: (5, 1), 2: (1, 5), 3: (8, 4)}
Episode 332000, Steps: 158
Episode 333000 start positions: {0: (5, 8), 1: (5, 1), 2: (1, 5), 3: (8, 4)}
Episode 333000, Steps: 105
Episode 334000 start positions: {0: (5, 8), 1: (5, 1), 2: (1, 5), 3: (8, 4)}
Episode 334000, Steps: 164
Episode 335000 start positions: {0: (5, 8), 1: (5, 1), 2: (1, 5), 3: (8, 4)}
Episode 335000, Steps: 66
Episode 336000 start positions: {0: (5, 8), 1: (5, 1), 2: (1, 5), 3: (8, 4)}
Episode 336000, Steps: 181
Episode 337000 start positions: {0: (5, 8), 1: (5, 1), 2: (1, 5), 3: (8, 2)}
Episode 337000, Steps: 700
Episode 338000 start positions: {0: (5, 8), 1: (5, 1), 2: (1, 5), 3: (8, 4)}
Episode 338000, Steps: 486
Episode 339000 start positions: {0: (5, 8), 1: (5, 1), 2: (1, 5), 3: (8, 4)}
Episode 339000, Steps: 146
Episode 340000 start positions: {0: (5, 8), 1: (5, 1), 2: (1, 5), 3: (8, 4)}
Episode 340000, Steps: 41
Episode 341000 start positions: {0: (5, 8), 1: (5, 1), 2: (1, 5), 3: (8, 4)}
Episode 341000, Steps: 139
Episode 342000 start positions: {0: (5, 8), 1: (5, 1), 2: (1, 5), 3: (8, 4)}
Episode 342000, Steps: 158
Episode 343000 start positions: {0: (5, 8), 1: (5, 1), 2: (1, 5), 3: (8, 4)}
Episode 343000, Steps: 127
Episode 344000 start positions: {0: (5, 8), 1: (5, 1), 2: (1, 6), 3: (8, 4)}
Episode 344000, Steps: 700
Episode 345000 start positions: {0: (5, 8), 1: (5, 1), 2: (1, 5), 3: (8, 4)}
Episode 345000, Steps: 217
Episode 346000 start positions: {0: (5, 8), 1: (5, 1), 2: (1, 5), 3: (8, 4)}
Episode 346000, Steps: 164
Episode 347000 start positions: {0: (5, 8), 1: (5, 1), 2: (1, 5), 3: (8, 4)}
Episode 347000, Steps: 230
Episode 348000 start positions: {0: (5, 8), 1: (5, 1), 2: (1, 5), 3: (8, 4)}
Episode 348000, Steps: 449
Episode 349000 start positions: {0: (5, 8), 1: (5, 1), 2: (1, 5), 3: (8, 4)}
Episode 349000, Steps: 245
Episode 350000 start positions: {0: (5, 8), 1: (5, 1), 2: (1, 5), 3: (8, 4)}
Episode 350000, Steps: 210
Episode 351000 start positions: {0: (5, 8), 1: (5, 0), 2: (1, 5), 3: (6, 4)}
Episode 351000, Steps: 700
Episode 352000 start positions: {0: (5, 8), 1: (5, 1), 2: (1, 5), 3: (8, 4)}
Episode 352000, Steps: 176
Episode 353000 start positions: {0: (5, 8), 1: (5, 1), 2: (1, 5), 3: (8, 4)}
Episode 353000, Steps: 19
Episode 354000 start positions: {0: (5, 8), 1: (5, 1), 2: (1, 5), 3: (8, 4)}
Episode 354000, Steps: 176
Episode 355000 start positions: {0: (5, 8), 1: (5, 1), 2: (1, 5), 3: (8, 4)}
Episode 355000, Steps: 301
Episode 356000 start positions: {0: (5, 8), 1: (5, 1), 2: (1, 5), 3: (8, 4)}
Episode 356000, Steps: 220
Episode 357000 start positions: {0: (5, 8), 1: (5, 1), 2: (1, 5), 3: (8, 4)}
Episode 357000, Steps: 651
Episode 358000 start positions: {0: (5, 8), 1: (5, 1), 2: (1, 5), 3: (8, 4)}
Episode 358000, Steps: 243
Episode 359000 start positions: {0: (5, 8), 1: (5, 1), 2: (1, 5), 3: (8, 4)}
Episode 359000, Steps: 446
Episode 360000 start positions: {0: (5, 8), 1: (5, 1), 2: (1, 5), 3: (8, 4)}
Episode 360000, Steps: 564
Episode 361000 start positions: {0: (5, 8), 1: (5, 1), 2: (1, 5), 3: (6, 5)}
Episode 361000, Steps: 700
Episode 362000 start positions: {0: (5, 8), 1: (5, 1), 2: (1, 5), 3: (8, 4)}
Episode 362000, Steps: 83
Episode 363000 start positions: {0: (5, 8), 1: (5, 1), 2: (1, 5), 3: (8, 4)}
Episode 363000, Steps: 449
Episode 364000 start positions: {0: (5, 8), 1: (5, 1), 2: (1, 5), 3: (8, 4)}
Episode 364000, Steps: 141
Episode 365000 start positions: {0: (5, 8), 1: (5, 1), 2: (0, 6), 3: (8, 4)}
Episode 365000, Steps: 700
Episode 366000 start positions: {0: (5, 8), 1: (5, 1), 2: (1, 5), 3: (8, 4)}
Episode 366000, Steps: 267
Episode 367000 start positions: {0: (5, 8), 1: (5, 1), 2: (1, 5), 3: (8, 4)}
Episode 367000, Steps: 68
Episode 368000 start positions: {0: (5, 8), 1: (5, 1), 2: (1, 5), 3: (8, 4)}
Episode 368000, Steps: 312
Episode 369000 start positions: {0: (5, 8), 1: (5, 1), 2: (1, 5), 3: (8, 4)}
Episode 369000, Steps: 190
Episode 370000 start positions: {0: (5, 8), 1: (5, 1), 2: (1, 5), 3: (8, 4)}
Episode 370000, Steps: 223
Episode 371000 start positions: {0: (5, 8), 1: (5, 1), 2: (1, 5), 3: (8, 4)}
Episode 371000, Steps: 43
Episode 372000 start positions: {0: (5, 8), 1: (5, 1), 2: (1, 5), 3: (8, 4)}
Episode 372000, Steps: 362
Episode 373000 start positions: {0: (5, 8), 1: (5, 1), 2: (1, 5), 3: (8, 4)}
Episode 373000, Steps: 618
Episode 374000 start positions: {0: (5, 8), 1: (5, 1), 2: (1, 5), 3: (8, 4)}
Episode 374000, Steps: 250
Episode 375000 start positions: {0: (5, 8), 1: (5, 1), 2: (1, 5), 3: (8, 4)}
Episode 375000, Steps: 548
Episode 376000 start positions: {0: (5, 8), 1: (5, 1), 2: (1, 5), 3: (8, 4)}
Episode 376000, Steps: 80
Episode 377000 start positions: {0: (5, 8), 1: (5, 1), 2: (1, 5), 3: (8, 4)}
Episode 377000, Steps: 455
Episode 378000 start positions: {0: (5, 8), 1: (5, 1), 2: (1, 5), 3: (8, 4)}
Episode 378000, Steps: 199
Episode 379000 start positions: {0: (5, 8), 1: (5, 1), 2: (1, 5), 3: (8, 4)}
Episode 379000, Steps: 70
Episode 380000 start positions: {0: (5, 8), 1: (5, 1), 2: (1, 5), 3: (8, 4)}
Episode 380000, Steps: 183
Episode 381000 start positions: {0: (5, 8), 1: (5, 1), 2: (1, 5), 3: (8, 4)}
Episode 381000, Steps: 51
Episode 382000 start positions: {0: (5, 8), 1: (5, 1), 2: (1, 5), 3: (8, 4)}
Episode 382000, Steps: 23
Episode 383000 start positions: {0: (5, 8), 1: (5, 1), 2: (1, 5), 3: (8, 4)}
Episode 383000, Steps: 561
Episode 384000 start positions: {0: (5, 8), 1: (5, 1), 2: (1, 5), 3: (8, 4)}
Episode 384000, Steps: 350
Episode 385000 start positions: {0: (5, 8), 1: (5, 1), 2: (1, 5), 3: (8, 4)}
Episode 385000, Steps: 87
Episode 386000 start positions: {0: (5, 8), 1: (5, 1), 2: (0, 5), 3: (5, 3)}
Episode 386000, Steps: 700
Episode 387000 start positions: {0: (5, 8), 1: (5, 1), 2: (1, 5), 3: (8, 4)}
Episode 387000, Steps: 311
Episode 388000 start positions: {0: (5, 8), 1: (5, 1), 2: (1, 5), 3: (8, 4)}
Episode 388000, Steps: 324
Episode 389000 start positions: {0: (5, 8), 1: (5, 1), 2: (1, 5), 3: (8, 4)}
Episode 389000, Steps: 692
Episode 390000 start positions: {0: (5, 8), 1: (5, 1), 2: (1, 5), 3: (8, 4)}
Episode 390000, Steps: 93
Episode 391000 start positions: {0: (5, 8), 1: (5, 1), 2: (1, 5), 3: (8, 4)}
Episode 391000, Steps: 197
Episode 392000 start positions: {0: (5, 8), 1: (5, 1), 2: (1, 5), 3: (8, 4)}
Episode 392000, Steps: 120
Episode 393000 start positions: {0: (5, 8), 1: (5, 1), 2: (1, 5), 3: (8, 4)}
Episode 393000, Steps: 223
Episode 394000 start positions: {0: (5, 8), 1: (5, 1), 2: (1, 5), 3: (8, 1)}
Episode 394000, Steps: 700
Episode 395000 start positions: {0: (5, 8), 1: (5, 1), 2: (1, 5), 3: (5, 3)}
Episode 395000, Steps: 700
Episode 396000 start positions: {0: (5, 8), 1: (5, 1), 2: (1, 5), 3: (8, 4)}
Episode 396000, Steps: 388
Episode 397000 start positions: {0: (5, 8), 1: (5, 1), 2: (1, 5), 3: (8, 4)}
Episode 397000, Steps: 189
Episode 398000 start positions: {0: (5, 8), 1: (5, 1), 2: (1, 5), 3: (8, 4)}
Episode 398000, Steps: 176
Episode 399000 start positions: {0: (5, 8), 1: (5, 1), 2: (1, 5), 3: (8, 4)}
Episode 399000, Steps: 30
Episode 400000 start positions: {0: (5, 8), 1: (5, 1), 2: (1, 5), 3: (8, 4)}
Episode 400000, Steps: 307
Episode 401000 start positions: {0: (5, 8), 1: (5, 1), 2: (1, 5), 3: (8, 4)}
Episode 401000, Steps: 237
Episode 402000 start positions: {0: (5, 8), 1: (5, 1), 2: (1, 5), 3: (8, 4)}
Episode 402000, Steps: 337
Episode 403000 start positions: {0: (5, 8), 1: (5, 1), 2: (1, 5), 3: (8, 4)}
Episode 403000, Steps: 211
Episode 404000 start positions: {0: (5, 8), 1: (5, 1), 2: (1, 5), 3: (8, 4)}
Episode 404000, Steps: 168
Episode 405000 start positions: {0: (5, 8), 1: (5, 1), 2: (1, 5), 3: (8, 4)}
Episode 405000, Steps: 469
Episode 406000 start positions: {0: (5, 8), 1: (5, 1), 2: (1, 5), 3: (8, 4)}
Episode 406000, Steps: 287
Episode 407000 start positions: {0: (5, 8), 1: (5, 1), 2: (1, 5), 3: (8, 4)}
Episode 407000, Steps: 54
Episode 408000 start positions: {0: (5, 8), 1: (5, 1), 2: (1, 5), 3: (8, 4)}
Episode 408000, Steps: 96
Episode 409000 start positions: {0: (5, 8), 1: (5, 1), 2: (1, 5), 3: (8, 4)}
Episode 409000, Steps: 201
Episode 410000 start positions: {0: (5, 8), 1: (5, 1), 2: (1, 5), 3: (8, 4)}
Episode 410000, Steps: 638
Episode 411000 start positions: {0: (5, 8), 1: (5, 1), 2: (1, 5), 3: (8, 4)}
Episode 411000, Steps: 310
Episode 412000 start positions: {0: (5, 8), 1: (5, 1), 2: (1, 5), 3: (8, 2)}
Episode 412000, Steps: 700
Episode 413000 start positions: {0: (5, 8), 1: (5, 1), 2: (1, 5), 3: (8, 4)}
Episode 413000, Steps: 180
Episode 414000 start positions: {0: (5, 8), 1: (5, 1), 2: (1, 5), 3: (8, 4)}
Episode 414000, Steps: 317
Episode 415000 start positions: {0: (5, 8), 1: (5, 1), 2: (1, 5), 3: (8, 4)}
Episode 415000, Steps: 426
Episode 416000 start positions: {0: (5, 8), 1: (5, 1), 2: (1, 5), 3: (8, 4)}
Episode 416000, Steps: 339
Episode 417000 start positions: {0: (5, 8), 1: (5, 1), 2: (1, 5), 3: (8, 4)}
Episode 417000, Steps: 219
Episode 418000 start positions: {0: (5, 8), 1: (5, 1), 2: (1, 5), 3: (8, 4)}
Episode 418000, Steps: 340
Episode 419000 start positions: {0: (5, 8), 1: (5, 1), 2: (1, 5), 3: (8, 4)}
Episode 419000, Steps: 137
Episode 420000 start positions: {0: (5, 8), 1: (5, 1), 2: (1, 5), 3: (8, 4)}
Episode 420000, Steps: 170
Episode 421000 start positions: {0: (5, 8), 1: (5, 1), 2: (1, 5), 3: (8, 4)}
Episode 421000, Steps: 195
Episode 422000 start positions: {0: (5, 8), 1: (5, 1), 2: (1, 5), 3: (8, 4)}
Episode 422000, Steps: 62
Episode 423000 start positions: {0: (5, 8), 1: (5, 1), 2: (1, 5), 3: (8, 4)}
Episode 423000, Steps: 531
Episode 424000 start positions: {0: (5, 8), 1: (5, 1), 2: (1, 5), 3: (8, 4)}
Episode 424000, Steps: 267
Episode 425000 start positions: {0: (5, 8), 1: (5, 1), 2: (1, 5), 3: (8, 4)}
Episode 425000, Steps: 421
Episode 426000 start positions: {0: (5, 8), 1: (5, 1), 2: (1, 5), 3: (8, 4)}
Episode 426000, Steps: 194
Episode 427000 start positions: {0: (5, 8), 1: (5, 1), 2: (1, 5), 3: (8, 4)}
Episode 427000, Steps: 551
Episode 428000 start positions: {0: (5, 8), 1: (5, 1), 2: (1, 5), 3: (8, 4)}
Episode 428000, Steps: 266
Episode 429000 start positions: {0: (5, 8), 1: (5, 1), 2: (1, 5), 3: (9, 3)}
Episode 429000, Steps: 700
Episode 430000 start positions: {0: (5, 8), 1: (5, 1), 2: (1, 5), 3: (8, 4)}
Episode 430000, Steps: 178
Episode 431000 start positions: {0: (5, 8), 1: (5, 1), 2: (1, 5), 3: (8, 4)}
Episode 431000, Steps: 89
Episode 432000 start positions: {0: (5, 8), 1: (5, 1), 2: (0, 6), 3: (8, 4)}
Episode 432000, Steps: 700
Episode 433000 start positions: {0: (5, 8), 1: (5, 1), 2: (1, 5), 3: (8, 4)}
Episode 433000, Steps: 236
Episode 434000 start positions: {0: (5, 8), 1: (5, 1), 2: (1, 5), 3: (8, 4)}
Episode 434000, Steps: 406
Episode 435000 start positions: {0: (5, 8), 1: (5, 1), 2: (1, 5), 3: (8, 4)}
Episode 435000, Steps: 173
Episode 436000 start positions: {0: (5, 8), 1: (5, 1), 2: (1, 5), 3: (8, 4)}
Episode 436000, Steps: 308
Episode 437000 start positions: {0: (5, 8), 1: (5, 1), 2: (1, 5), 3: (8, 4)}
Episode 437000, Steps: 50
Episode 438000 start positions: {0: (5, 8), 1: (5, 1), 2: (1, 5), 3: (8, 4)}
Episode 438000, Steps: 272
Episode 439000 start positions: {0: (5, 8), 1: (5, 1), 2: (1, 5), 3: (8, 4)}
Episode 439000, Steps: 411
Episode 440000 start positions: {0: (5, 8), 1: (5, 1), 2: (1, 5), 3: (8, 4)}
Episode 440000, Steps: 79
Episode 441000 start positions: {0: (5, 8), 1: (5, 1), 2: (1, 5), 3: (8, 4)}
Episode 441000, Steps: 295
Episode 442000 start positions: {0: (5, 8), 1: (5, 1), 2: (1, 5), 3: (8, 4)}
Episode 442000, Steps: 167
Episode 443000 start positions: {0: (5, 8), 1: (5, 1), 2: (1, 5), 3: (8, 4)}
Episode 443000, Steps: 160
Episode 444000 start positions: {0: (5, 8), 1: (5, 1), 2: (1, 5), 3: (8, 4)}
Episode 444000, Steps: 461
Episode 445000 start positions: {0: (5, 8), 1: (5, 1), 2: (1, 5), 3: (8, 4)}
Episode 445000, Steps: 133
Episode 446000 start positions: {0: (5, 8), 1: (5, 1), 2: (1, 5), 3: (8, 4)}
Episode 446000, Steps: 178
Episode 447000 start positions: {0: (5, 8), 1: (5, 1), 2: (1, 5), 3: (8, 4)}
Episode 447000, Steps: 248
Episode 448000 start positions: {0: (5, 8), 1: (6, 1), 2: (5, 5), 3: (7, 3)}
Episode 448000, Steps: 700
Episode 449000 start positions: {0: (5, 8), 1: (5, 1), 2: (1, 5), 3: (8, 4)}
Episode 449000, Steps: 52
Episode 450000 start positions: {0: (5, 8), 1: (5, 1), 2: (1, 5), 3: (8, 4)}
Episode 450000, Steps: 235
Episode 451000 start positions: {0: (5, 8), 1: (5, 1), 2: (1, 5), 3: (8, 4)}
Episode 451000, Steps: 163
Episode 452000 start positions: {0: (5, 8), 1: (5, 1), 2: (1, 5), 3: (8, 3)}
Episode 452000, Steps: 700
Episode 453000 start positions: {0: (5, 8), 1: (5, 1), 2: (1, 5), 3: (8, 4)}
Episode 453000, Steps: 301
Episode 454000 start positions: {0: (5, 8), 1: (5, 1), 2: (1, 5), 3: (8, 4)}
Episode 454000, Steps: 532
Episode 455000 start positions: {0: (5, 8), 1: (5, 1), 2: (1, 5), 3: (8, 4)}
Episode 455000, Steps: 73
Episode 456000 start positions: {0: (5, 8), 1: (5, 1), 2: (1, 5), 3: (8, 4)}
Episode 456000, Steps: 79
Episode 457000 start positions: {0: (5, 8), 1: (5, 1), 2: (1, 5), 3: (8, 4)}
Episode 457000, Steps: 593
Episode 458000 start positions: {0: (5, 8), 1: (5, 1), 2: (1, 5), 3: (8, 4)}
Episode 458000, Steps: 174
Episode 459000 start positions: {0: (5, 8), 1: (5, 1), 2: (1, 5), 3: (8, 4)}
Episode 459000, Steps: 71
Episode 460000 start positions: {0: (5, 8), 1: (5, 1), 2: (1, 5), 3: (8, 4)}
Episode 460000, Steps: 291
Episode 461000 start positions: {0: (5, 8), 1: (5, 1), 2: (1, 5), 3: (8, 4)}
Episode 461000, Steps: 257
Episode 462000 start positions: {0: (5, 8), 1: (5, 1), 2: (1, 5), 3: (8, 4)}
Episode 462000, Steps: 174
Episode 463000 start positions: {0: (5, 8), 1: (5, 1), 2: (1, 5), 3: (8, 4)}
Episode 463000, Steps: 275
Episode 464000 start positions: {0: (5, 8), 1: (7, 1), 2: (1, 5), 3: (8, 4)}
Episode 464000, Steps: 700
Episode 465000 start positions: {0: (5, 8), 1: (5, 1), 2: (1, 5), 3: (8, 4)}
Episode 465000, Steps: 657
Episode 466000 start positions: {0: (5, 8), 1: (5, 1), 2: (1, 5), 3: (8, 4)}
Episode 466000, Steps: 489
Episode 467000 start positions: {0: (6, 8), 1: (6, 1), 2: (1, 5), 3: (8, 4)}
Episode 467000, Steps: 700
Episode 468000 start positions: {0: (5, 8), 1: (5, 1), 2: (1, 5), 3: (8, 4)}
Episode 468000, Steps: 145
Episode 469000 start positions: {0: (5, 8), 1: (5, 1), 2: (1, 5), 3: (9, 2)}
Episode 469000, Steps: 700
Episode 470000 start positions: {0: (5, 8), 1: (5, 1), 2: (1, 5), 3: (8, 4)}
Episode 470000, Steps: 44
Episode 471000 start positions: {0: (5, 8), 1: (5, 1), 2: (1, 5), 3: (8, 4)}
Episode 471000, Steps: 210
Episode 472000 start positions: {0: (5, 8), 1: (5, 1), 2: (1, 5), 3: (8, 4)}
Episode 472000, Steps: 316
Episode 473000 start positions: {0: (5, 8), 1: (5, 1), 2: (1, 5), 3: (8, 4)}
Episode 473000, Steps: 160
Episode 474000 start positions: {0: (5, 8), 1: (5, 1), 2: (1, 5), 3: (8, 4)}
Episode 474000, Steps: 248
Episode 475000 start positions: {0: (5, 8), 1: (5, 1), 2: (1, 5), 3: (8, 4)}
Episode 475000, Steps: 128
Episode 476000 start positions: {0: (5, 8), 1: (5, 1), 2: (1, 5), 3: (8, 4)}
Episode 476000, Steps: 549
Episode 477000 start positions: {0: (5, 8), 1: (5, 1), 2: (1, 5), 3: (8, 4)}
Episode 477000, Steps: 114
Episode 478000 start positions: {0: (5, 8), 1: (5, 1), 2: (1, 5), 3: (8, 4)}
Episode 478000, Steps: 311
Episode 479000 start positions: {0: (5, 8), 1: (5, 1), 2: (1, 5), 3: (8, 4)}
Episode 479000, Steps: 39
Episode 480000 start positions: {0: (5, 8), 1: (5, 1), 2: (1, 5), 3: (8, 4)}
Episode 480000, Steps: 469
Episode 481000 start positions: {0: (5, 8), 1: (5, 1), 2: (1, 5), 3: (8, 4)}
Episode 481000, Steps: 161
Episode 482000 start positions: {0: (5, 8), 1: (5, 1), 2: (1, 5), 3: (8, 4)}
Episode 482000, Steps: 120
Episode 483000 start positions: {0: (5, 8), 1: (5, 1), 2: (1, 5), 3: (8, 4)}
Episode 483000, Steps: 204
Episode 484000 start positions: {0: (5, 8), 1: (5, 1), 2: (1, 5), 3: (8, 2)}
Episode 484000, Steps: 700
Episode 485000 start positions: {0: (5, 8), 1: (5, 1), 2: (1, 5), 3: (8, 4)}
Episode 485000, Steps: 630
Episode 486000 start positions: {0: (5, 8), 1: (5, 1), 2: (1, 5), 3: (8, 4)}
Episode 486000, Steps: 142
Episode 487000 start positions: {0: (5, 8), 1: (5, 1), 2: (1, 5), 3: (8, 4)}
Episode 487000, Steps: 403
Episode 488000 start positions: {0: (5, 8), 1: (5, 1), 2: (1, 5), 3: (8, 4)}
Episode 488000, Steps: 394
Episode 489000 start positions: {0: (5, 8), 1: (5, 6), 2: (1, 5), 3: (9, 4)}
Episode 489000, Steps: 700
Episode 490000 start positions: {0: (5, 8), 1: (5, 1), 2: (1, 5), 3: (8, 4)}
Episode 490000, Steps: 590
Episode 491000 start positions: {0: (5, 8), 1: (5, 1), 2: (1, 5), 3: (8, 4)}
Episode 491000, Steps: 270
Episode 492000 start positions: {0: (5, 8), 1: (5, 1), 2: (1, 5), 3: (8, 4)}
Episode 492000, Steps: 641
Episode 493000 start positions: {0: (5, 8), 1: (5, 1), 2: (1, 5), 3: (8, 4)}
Episode 493000, Steps: 516
Episode 494000 start positions: {0: (5, 8), 1: (5, 1), 2: (1, 5), 3: (8, 4)}
Episode 494000, Steps: 95
Episode 495000 start positions: {0: (5, 8), 1: (5, 1), 2: (1, 5), 3: (8, 4)}
Episode 495000, Steps: 399
Episode 496000 start positions: {0: (5, 8), 1: (5, 1), 2: (1, 5), 3: (8, 4)}
Episode 496000, Steps: 273
Episode 497000 start positions: {0: (5, 8), 1: (5, 1), 2: (1, 5), 3: (8, 4)}
Episode 497000, Steps: 224
Episode 498000 start positions: {0: (5, 8), 1: (5, 1), 2: (1, 5), 3: (8, 3)}
Episode 498000, Steps: 700
Episode 499000 start positions: {0: (5, 8), 1: (5, 1), 2: (1, 5), 3: (8, 4)}
Episode 499000, Steps: 186
Episode 500000 start positions: {0: (5, 8), 1: (5, 1), 2: (1, 5), 3: (8, 4)}
Episode 500000, Steps: 111
