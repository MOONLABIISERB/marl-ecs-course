{
 "cells": [
  {
   "cell_type": "code",
   "execution_count": 1,
   "metadata": {},
   "outputs": [],
   "source": [
    "import torch\n",
    "import numpy as np\n",
    "from torchrl.envs import VmasEnv\n",
    "from torchrl.envs import RewardSum, TransformedEnv\n",
    "from torchrl.envs import check_env_specs\n",
    "from random import sample\n",
    "from matplotlib import pyplot as plt\n",
    "from collections import deque as Deque\n",
    "from rich.console import Console\n",
    "from rich.table import Table\n",
    "from rich.live import Live\n",
    "from itertools import count"
   ]
  },
  {
   "cell_type": "markdown",
   "metadata": {},
   "source": [
    "# Create the Environment"
   ]
  },
  {
   "cell_type": "code",
   "execution_count": 2,
   "metadata": {},
   "outputs": [],
   "source": [
    "scenario_name = \"football\"\n",
    "max_steps = 1_000\n",
    "n_agents = 3\n",
    "device = vmas_device = \"cuda\" if torch.cuda.is_available() else \"cpu\"\n",
    "\n",
    "\n",
    "env = VmasEnv(\n",
    "    scenario=scenario_name,\n",
    "    num_envs=1,\n",
    "    continuous_actions=True,\n",
    "    max_steps=max_steps,\n",
    "    device=vmas_device,\n",
    "    n_red_agents=n_agents,\n",
    "    n_blue_agents=n_agents,\n",
    "    agent_size=0.05,\n",
    "    ball_size=0.03,\n",
    "    max_speed=3,\n",
    "    u_multiplier=1,\n",
    "    goal_depth=0.2,\n",
    "    ai_red_agents=True,\n",
    "    ai_blue_agents=False,\n",
    "    dense_reward_ratio=0.75,\n",
    "    viewer_size=(640, 480),\n",
    "    pitch_length=1.5,\n",
    "    pitch_width=0.75,\n",
    "    max_ball_dist_reward=3.0\n",
    ")\n",
    "\n",
    "# env.max_ball_dist_reward = 2.0\n",
    "\n",
    "# The AI is RED (AI -> Actually a RULE-BASED algorithm)\n",
    "# The Multi-Agent System is BLUE\n",
    "\n",
    "env = TransformedEnv(env, RewardSum())"
   ]
  },
  {
   "cell_type": "code",
   "execution_count": 3,
   "metadata": {},
   "outputs": [
    {
     "name": "stderr",
     "output_type": "stream",
     "text": [
      "2024-11-27 16:39:19,909 [torchrl][INFO] check_env_specs succeeded!\n"
     ]
    }
   ],
   "source": [
    "check_env_specs(env=env)"
   ]
  },
  {
   "cell_type": "code",
   "execution_count": 4,
   "metadata": {},
   "outputs": [],
   "source": [
    "def create_action(action_values: torch.Tensor):\n",
    "    action = env.rand_action()\n",
    "    action.set(env.action_key, action_values.reshape(action[env.action_key].shape))\n",
    "    return action"
   ]
  },
  {
   "cell_type": "markdown",
   "metadata": {},
   "source": [
    "# Create Networks\n",
    "\n",
    "## Policy Network"
   ]
  },
  {
   "cell_type": "code",
   "execution_count": 5,
   "metadata": {},
   "outputs": [],
   "source": [
    "class ActorNetwork(torch.nn.Module):\n",
    "    _network: torch.nn.Sequential\n",
    "    _max_action: float\n",
    "    _state_dims: int\n",
    "    _action_dims: int\n",
    "\n",
    "    def __init__(\n",
    "        self, state_dims: int, action_dims: int, n_agents: int, max_action: float\n",
    "    ) -> None:\n",
    "        super().__init__()\n",
    "        self._state_dims = state_dims * n_agents\n",
    "        self._action_dims = action_dims * n_agents\n",
    "        self._max_action = max_action\n",
    "        self._network = torch.nn.Sequential(\n",
    "            torch.nn.Linear(self._state_dims, 64),\n",
    "            torch.nn.ReLU(),\n",
    "            torch.nn.Linear(64, 256),\n",
    "            torch.nn.ReLU(),\n",
    "            torch.nn.Linear(256, 64),\n",
    "            torch.nn.ReLU(),\n",
    "            torch.nn.Linear(64, self._action_dims),\n",
    "            torch.nn.Tanh(),\n",
    "        )\n",
    "\n",
    "    def forward(self, state: torch.Tensor) -> torch.Tensor:\n",
    "        return (\n",
    "            self._network(state.reshape(state.shape[0], self._state_dims))\n",
    "            * self._max_action\n",
    "        )\n",
    "\n",
    "    def get_action(self, state: torch.Tensor):\n",
    "        action_values = self.forward(state=state)\n",
    "        return create_action(action_values.reshape((-1, 3, 2)))"
   ]
  },
  {
   "cell_type": "markdown",
   "metadata": {},
   "source": [
    "## Critic Network"
   ]
  },
  {
   "cell_type": "code",
   "execution_count": 6,
   "metadata": {},
   "outputs": [],
   "source": [
    "class QNetwork(torch.nn.Module):\n",
    "    _network: torch.nn.Sequential\n",
    "    _max_action: float\n",
    "    _state_dims: int\n",
    "    _action_dims: int\n",
    "\n",
    "    def __init__(\n",
    "        self, state_dims: int, action_dims: int, n_agents: int, max_action: float\n",
    "    ) -> None:\n",
    "        super().__init__()\n",
    "        self._state_dims = state_dims * n_agents\n",
    "        self._action_dims = action_dims * n_agents\n",
    "        self._max_action = max_action\n",
    "        self._network = torch.nn.Sequential(\n",
    "            torch.nn.Linear(self._state_dims + self._action_dims, 128),\n",
    "            torch.nn.ReLU(),\n",
    "            torch.nn.Linear(128, 32),\n",
    "            torch.nn.ReLU(),\n",
    "            # torch.nn.ReLU(),\n",
    "            torch.nn.Linear(32, 1),\n",
    "        )\n",
    "\n",
    "    def forward(self, state: torch.Tensor, action: torch.Tensor) -> torch.Tensor:\n",
    "        x = torch.concat(tensors=(state.flatten(1), action.flatten(1)), dim=1)\n",
    "        return self._network(x)"
   ]
  },
  {
   "cell_type": "markdown",
   "metadata": {},
   "source": [
    "## Initialize the Networks\n",
    "\n",
    "- Init networks\n",
    "- Copy weights into targets"
   ]
  },
  {
   "cell_type": "code",
   "execution_count": 7,
   "metadata": {},
   "outputs": [
    {
     "data": {
      "text/plain": [
       "<All keys matched successfully>"
      ]
     },
     "execution_count": 7,
     "metadata": {},
     "output_type": "execute_result"
    }
   ],
   "source": [
    "actor_net = ActorNetwork(\n",
    "    state_dims=8, action_dims=2, n_agents=n_agents, max_action=1\n",
    ").to(device)\n",
    "q_net = QNetwork(state_dims=8, action_dims=2, n_agents=n_agents, max_action=1).to(\n",
    "    device\n",
    ")\n",
    "\n",
    "actor_target = ActorNetwork(\n",
    "    state_dims=8, action_dims=2, n_agents=n_agents, max_action=1\n",
    ").to(device)\n",
    "q_target = QNetwork(state_dims=8, action_dims=2, n_agents=n_agents, max_action=1).to(\n",
    "    device\n",
    ")\n",
    "\n",
    "actor_target.load_state_dict(actor_net.state_dict())\n",
    "q_target.load_state_dict(q_net.state_dict())"
   ]
  },
  {
   "cell_type": "markdown",
   "metadata": {},
   "source": [
    "# Utils\n",
    "\n",
    "## Update the target network weights"
   ]
  },
  {
   "cell_type": "code",
   "execution_count": 8,
   "metadata": {},
   "outputs": [],
   "source": [
    "def update_target_nets(\n",
    "    q_net: torch.nn.Module,\n",
    "    q_target: torch.nn.Module,\n",
    "    actor_net: torch.nn.Module,\n",
    "    actor_target: torch.nn.Module,\n",
    "    tau: float = 0.002\n",
    ") -> None:\n",
    "    for var, var_target in zip(q_net.parameters(), q_target.parameters()):\n",
    "        var_target.data = var * tau + (1.0 - tau) * var_target.data\n",
    "    for var, var_target in zip(actor_net.parameters(), actor_target.parameters()):\n",
    "        var_target.data = var * tau + (1.0 - tau) * var_target.data"
   ]
  },
  {
   "cell_type": "markdown",
   "metadata": {},
   "source": [
    "## Add Random Noise to Actions"
   ]
  },
  {
   "cell_type": "code",
   "execution_count": 9,
   "metadata": {},
   "outputs": [],
   "source": [
    "def add_random_noise(\n",
    "    action: torch.Tensor, min_noise: float = -0.1, max_noise: float = 0.1\n",
    "):\n",
    "    noise = torch.rand(action.shape, device=device) * (max_noise - min_noise) + min_noise\n",
    "    return torch.clip(action + noise, min=-1.0, max=1.0)"
   ]
  },
  {
   "cell_type": "markdown",
   "metadata": {},
   "source": [
    "## Create a table to log some values\n",
    "\n",
    "Some important values to log include:\n",
    "- Output of the Q-Network for current state and action pair, $\\hat{Q}_{\\theta_{\\text{critic}}}(s, a)$\n",
    "- Actions predicted by the actor network for current state, $\\hat{\\mu}_{\\theta_{\\text{actor}}}(s)$\n",
    "- The reward for the current step, $R$\n",
    "- The loss for the actor model, $\\mathcal{L}_{\\text{actor}}(\\theta_{\\text{actor}})$\n",
    "- The loss for the critic model, $\\mathcal{L}_{\\text{critic}}(\\theta_{\\text{critic}})$"
   ]
  },
  {
   "cell_type": "code",
   "execution_count": 10,
   "metadata": {},
   "outputs": [],
   "source": [
    "def create_table(\n",
    "    episode: int | None = None,\n",
    "    t: int | None = None,\n",
    "    q: torch.Tensor | None = None,\n",
    "    u: torch.Tensor | None = None,\n",
    "    r: torch.Tensor | None = None,\n",
    "    l_actor: torch.Tensor | None = None,\n",
    "    l_critic: torch.Tensor | None = None,\n",
    "    noise: float | None = None,\n",
    ") -> Table:\n",
    "    \"\"\"\n",
    "    Creates a Rich table for displaying RL model parameters.\n",
    "\n",
    "    Args:\n",
    "        episode (int): The current episode number.\n",
    "        t (int): The current timestep within the episode.\n",
    "        q (torch.Tensor): The Q-value for the current state-action pair.\n",
    "        u (torch.Tensor): The policy's action distribution (μ) for the current state.\n",
    "        r (torch.Tensor): The reward at the current timestep.\n",
    "        l_actor (torch.Tensor): The actor loss.\n",
    "        l_critic (torch.Tensor): The critic loss.\n",
    "        noise (float): The noise added to the actions.\n",
    "\n",
    "    Returns:\n",
    "        Table: A Rich table object displaying the parameters.\n",
    "    \"\"\"\n",
    "    table = Table(title=\"Model Parameters\", show_header=True, header_style=\"bold green\")\n",
    "    table.add_column(\"Parameter\", justify=\"left\", style=\"cyan\", no_wrap=True)\n",
    "    table.add_column(\"Value\", justify=\"left\", style=\"magenta\")\n",
    "\n",
    "    # Add rows for each parameter\n",
    "    table.add_row(\"episode\", str(episode))\n",
    "    table.add_row(\"t\", str(t))\n",
    "    table.add_row(\"Q(s, a)\", str(q))\n",
    "    table.add_row(\"μ(s, a)\", str(u))  # Unicode character for μ\n",
    "    table.add_row(\"R\", str(r), style=\"bold blue\")\n",
    "    table.add_row(\"L_actor\", str(l_actor))\n",
    "    table.add_row(\"L_critic\", str(l_critic))\n",
    "    table.add_row(\"noise\", str(noise))\n",
    "    table.add_row(\n",
    "        \"agent pos\",\n",
    "        str(torch.cat([agent.state.pos for agent in env.world.policy_agents], dim=0)),\n",
    "    )\n",
    "\n",
    "    return table"
   ]
  },
  {
   "cell_type": "markdown",
   "metadata": {},
   "source": [
    "# Training Loop"
   ]
  },
  {
   "cell_type": "markdown",
   "metadata": {},
   "source": [
    "## Define the Hyperparameters"
   ]
  },
  {
   "cell_type": "code",
   "execution_count": 11,
   "metadata": {},
   "outputs": [],
   "source": [
    "n_epochs = 20\n",
    "batch_size = 32\n",
    "should_update = False\n",
    "min_buffer_items = 64\n",
    "buffer_size = 256\n",
    "n_updates = 128\n",
    "gamma = 0.99\n",
    "steps = 200\n",
    "\n",
    "noise = 0.2\n",
    "noise_decay = 5e-5\n",
    "\n",
    "actor_lr = np.exp(-3)\n",
    "q_lr = np.exp(-3)\n",
    "\n",
    "tau = 0.005"
   ]
  },
  {
   "cell_type": "markdown",
   "metadata": {},
   "source": [
    "## Create the Optimizers\n",
    "\n",
    "- We use *Adam with weight decay*"
   ]
  },
  {
   "cell_type": "code",
   "execution_count": 12,
   "metadata": {},
   "outputs": [],
   "source": [
    "actor_optim = torch.optim.Adam(actor_net.parameters(), lr=actor_lr)\n",
    "q_optim = torch.optim.Adam(q_net.parameters(), lr=q_lr)"
   ]
  },
  {
   "cell_type": "markdown",
   "metadata": {},
   "source": [
    "## The Real Sauce!!!"
   ]
  },
  {
   "cell_type": "code",
   "execution_count": 13,
   "metadata": {},
   "outputs": [
    {
     "data": {
      "application/vnd.jupyter.widget-view+json": {
       "model_id": "cc172410b2834e8297ea085931c4ac8d",
       "version_major": 2,
       "version_minor": 0
      },
      "text/plain": [
       "Output()"
      ]
     },
     "metadata": {},
     "output_type": "display_data"
    },
    {
     "data": {
      "text/html": [
       "<pre style=\"white-space:pre;overflow-x:auto;line-height:normal;font-family:Menlo,'DejaVu Sans Mono',consolas,'Courier New',monospace\"></pre>\n"
      ],
      "text/plain": []
     },
     "metadata": {},
     "output_type": "display_data"
    },
    {
     "ename": "ArgumentError",
     "evalue": "argument 2: TypeError: 'NoneType' object cannot be interpreted as an integer",
     "output_type": "error",
     "traceback": [
      "\u001b[0;31m---------------------------------------------------------------------------\u001b[0m",
      "\u001b[0;31mArgumentError\u001b[0m                             Traceback (most recent call last)",
      "Cell \u001b[0;32mIn[13], line 30\u001b[0m\n\u001b[1;32m     27\u001b[0m reward \u001b[38;5;241m=\u001b[39m step\u001b[38;5;241m.\u001b[39mget((\u001b[38;5;124m\"\u001b[39m\u001b[38;5;124mnext\u001b[39m\u001b[38;5;124m\"\u001b[39m, \u001b[38;5;124m\"\u001b[39m\u001b[38;5;124magent_blue\u001b[39m\u001b[38;5;124m\"\u001b[39m, \u001b[38;5;124m\"\u001b[39m\u001b[38;5;124mreward\u001b[39m\u001b[38;5;124m\"\u001b[39m))\n\u001b[1;32m     28\u001b[0m done \u001b[38;5;241m=\u001b[39m step\u001b[38;5;241m.\u001b[39mget((\u001b[38;5;124m\"\u001b[39m\u001b[38;5;124mnext\u001b[39m\u001b[38;5;124m\"\u001b[39m, \u001b[38;5;124m\"\u001b[39m\u001b[38;5;124mdone\u001b[39m\u001b[38;5;124m\"\u001b[39m))\n\u001b[0;32m---> 30\u001b[0m \u001b[43menv\u001b[49m\u001b[38;5;241;43m.\u001b[39;49m\u001b[43mrender\u001b[49m\u001b[43m(\u001b[49m\u001b[43m)\u001b[49m\n\u001b[1;32m     32\u001b[0m \u001b[38;5;66;03m# Store transition in replay buffer\u001b[39;00m\n\u001b[1;32m     33\u001b[0m \u001b[38;5;66;03m# console.log(\"Appending to replay buffer\")\u001b[39;00m\n\u001b[1;32m     34\u001b[0m replay_buffer\u001b[38;5;241m.\u001b[39mappend(\n\u001b[1;32m     35\u001b[0m     (\n\u001b[1;32m     36\u001b[0m         state,\n\u001b[0;32m   (...)\u001b[0m\n\u001b[1;32m     41\u001b[0m     )\n\u001b[1;32m     42\u001b[0m )\n",
      "File \u001b[0;32m~/sattwik/ecs427/football_vmas/.venv/lib/python3.12/site-packages/vmas/simulator/environment/environment.py:792\u001b[0m, in \u001b[0;36mEnvironment.render\u001b[0;34m(self, mode, env_index, agent_index_focus, visualize_when_rgb, plot_position_function, plot_position_function_precision, plot_position_function_range, plot_position_function_cmap_range, plot_position_function_cmap_alpha, plot_position_function_cmap_name)\u001b[0m\n\u001b[1;32m    789\u001b[0m     \u001b[38;5;28mself\u001b[39m\u001b[38;5;241m.\u001b[39mviewer\u001b[38;5;241m.\u001b[39madd_onetime_list(entity\u001b[38;5;241m.\u001b[39mrender(env_index\u001b[38;5;241m=\u001b[39menv_index))\n\u001b[1;32m    791\u001b[0m \u001b[38;5;66;03m# render to display or array\u001b[39;00m\n\u001b[0;32m--> 792\u001b[0m \u001b[38;5;28;01mreturn\u001b[39;00m \u001b[38;5;28;43mself\u001b[39;49m\u001b[38;5;241;43m.\u001b[39;49m\u001b[43mviewer\u001b[49m\u001b[38;5;241;43m.\u001b[39;49m\u001b[43mrender\u001b[49m\u001b[43m(\u001b[49m\u001b[43mreturn_rgb_array\u001b[49m\u001b[38;5;241;43m=\u001b[39;49m\u001b[43mmode\u001b[49m\u001b[43m \u001b[49m\u001b[38;5;241;43m==\u001b[39;49m\u001b[43m \u001b[49m\u001b[38;5;124;43m\"\u001b[39;49m\u001b[38;5;124;43mrgb_array\u001b[39;49m\u001b[38;5;124;43m\"\u001b[39;49m\u001b[43m)\u001b[49m\n",
      "File \u001b[0;32m~/sattwik/ecs427/football_vmas/.venv/lib/python3.12/site-packages/vmas/simulator/rendering.py:149\u001b[0m, in \u001b[0;36mViewer.render\u001b[0;34m(self, return_rgb_array)\u001b[0m\n\u001b[1;32m    147\u001b[0m \u001b[38;5;28mself\u001b[39m\u001b[38;5;241m.\u001b[39mwindow\u001b[38;5;241m.\u001b[39mclear()\n\u001b[1;32m    148\u001b[0m \u001b[38;5;28mself\u001b[39m\u001b[38;5;241m.\u001b[39mwindow\u001b[38;5;241m.\u001b[39mswitch_to()\n\u001b[0;32m--> 149\u001b[0m \u001b[38;5;28;43mself\u001b[39;49m\u001b[38;5;241;43m.\u001b[39;49m\u001b[43mwindow\u001b[49m\u001b[38;5;241;43m.\u001b[39;49m\u001b[43mdispatch_events\u001b[49m\u001b[43m(\u001b[49m\u001b[43m)\u001b[49m\n\u001b[1;32m    151\u001b[0m \u001b[38;5;28mself\u001b[39m\u001b[38;5;241m.\u001b[39mtransform\u001b[38;5;241m.\u001b[39menable()\n\u001b[1;32m    153\u001b[0m text_lines \u001b[38;5;241m=\u001b[39m []\n",
      "File \u001b[0;32m~/sattwik/ecs427/football_vmas/.venv/lib/python3.12/site-packages/pyglet/window/xlib/__init__.py:939\u001b[0m, in \u001b[0;36mXlibWindow.dispatch_events\u001b[0;34m(self)\u001b[0m\n\u001b[1;32m    936\u001b[0m _view \u001b[38;5;241m=\u001b[39m \u001b[38;5;28mself\u001b[39m\u001b[38;5;241m.\u001b[39m_view\n\u001b[1;32m    938\u001b[0m \u001b[38;5;66;03m# Check for the events specific to this window\u001b[39;00m\n\u001b[0;32m--> 939\u001b[0m \u001b[38;5;28;01mwhile\u001b[39;00m \u001b[43mxlib\u001b[49m\u001b[38;5;241;43m.\u001b[39;49m\u001b[43mXCheckWindowEvent\u001b[49m\u001b[43m(\u001b[49m\u001b[43m_x_display\u001b[49m\u001b[43m,\u001b[49m\u001b[43m \u001b[49m\u001b[43m_window\u001b[49m\u001b[43m,\u001b[49m\u001b[43m \u001b[49m\u001b[38;5;241;43m0x1ffffff\u001b[39;49m\u001b[43m,\u001b[49m\u001b[43m \u001b[49m\u001b[43mbyref\u001b[49m\u001b[43m(\u001b[49m\u001b[43me\u001b[49m\u001b[43m)\u001b[49m\u001b[43m)\u001b[49m:\n\u001b[1;32m    940\u001b[0m     \u001b[38;5;66;03m# Key events are filtered by the xlib window event\u001b[39;00m\n\u001b[1;32m    941\u001b[0m     \u001b[38;5;66;03m# handler so they get a shot at the prefiltered event.\u001b[39;00m\n\u001b[1;32m    942\u001b[0m     \u001b[38;5;28;01mif\u001b[39;00m e\u001b[38;5;241m.\u001b[39mxany\u001b[38;5;241m.\u001b[39mtype \u001b[38;5;129;01mnot\u001b[39;00m \u001b[38;5;129;01min\u001b[39;00m (xlib\u001b[38;5;241m.\u001b[39mKeyPress, xlib\u001b[38;5;241m.\u001b[39mKeyRelease):\n\u001b[1;32m    943\u001b[0m         \u001b[38;5;28;01mif\u001b[39;00m xlib\u001b[38;5;241m.\u001b[39mXFilterEvent(e, \u001b[38;5;241m0\u001b[39m):\n",
      "\u001b[0;31mArgumentError\u001b[0m: argument 2: TypeError: 'NoneType' object cannot be interpreted as an integer"
     ]
    }
   ],
   "source": [
    "history = []\n",
    "replay_buffer = Deque([], maxlen=buffer_size)\n",
    "console = Console()\n",
    "\n",
    "train = True\n",
    "\n",
    "# console.log(\"Resetting env\")\n",
    "reset = env.reset()\n",
    "state = reset.get((\"agent_blue\", \"observation\"))\n",
    "\n",
    "with Live(create_table(noise=noise), refresh_per_second=5) as live:\n",
    "    for episode in count() if train else range(n_epochs):\n",
    "        # console.log(\"Entering 2nd loop\")\n",
    "        for t in range(steps):\n",
    "            # console.log(\"Picking action\")\n",
    "            action = create_action(\n",
    "                add_random_noise(actor_net(state), min_noise=-noise, max_noise=noise)\n",
    "            )\n",
    "            # action = create_action(actor_net(state))\n",
    "\n",
    "            # print(action[env.action_key])\n",
    "\n",
    "            # console.log(\"Taking step acc to action\")\n",
    "            step = env.step(action) if train else env.rand_step()\n",
    "            # console.log(\"Getting observations\")\n",
    "            next_state = step.get((\"next\", \"agent_blue\", \"observation\"))\n",
    "            reward = step.get((\"next\", \"agent_blue\", \"reward\"))\n",
    "            done = step.get((\"next\", \"done\"))\n",
    "\n",
    "            env.render()\n",
    "\n",
    "            # Store transition in replay buffer\n",
    "            # console.log(\"Appending to replay buffer\")\n",
    "            replay_buffer.append(\n",
    "                (\n",
    "                    state,\n",
    "                    action[env.action_key],\n",
    "                    reward,\n",
    "                    next_state,\n",
    "                    done,\n",
    "                )\n",
    "            )\n",
    "            state = next_state\n",
    "\n",
    "            # Reset the env if in terminal state\n",
    "            if done:\n",
    "                env.reset()\n",
    "\n",
    "            # Time to update\n",
    "            should_update = len(replay_buffer) > min_buffer_items\n",
    "            if should_update and train:\n",
    "                noise /= (1 + noise_decay)\n",
    "\n",
    "                # Select random minibatch\n",
    "                batch = sample(population=replay_buffer, k=batch_size)\n",
    "                states, actions, rewards, next_states, dones = [\n",
    "                    torch.cat(z, dim=0) for z in list(zip(*batch))\n",
    "                ]\n",
    "                rewards = rewards.squeeze(-1)\n",
    "\n",
    "                qs = q_net(states, actions)\n",
    "                pred_actions = actor_net(states).reshape(actions.shape)\n",
    "\n",
    "                # Target y\n",
    "                next_target_actions = actor_target(next_states)\n",
    "                next_target_qs = q_target(next_states, next_target_actions)\n",
    "\n",
    "                # console.log(\n",
    "                #     {\n",
    "                #         \"next_target_actions\": next_target_actions.shape,\n",
    "                #         \"next_target_qs\": next_target_qs.shape,\n",
    "                #         \"dones\": dones.shape,\n",
    "                #         \"rewards\": rewards.shape,\n",
    "                #     }\n",
    "                # )\n",
    "\n",
    "                y_target = (\n",
    "                    rewards + gamma * (1 - dones.to(dtype=torch.float)) * next_target_qs\n",
    "                )\n",
    "\n",
    "                # Update Q network\n",
    "                q_optim.zero_grad()\n",
    "                q_loss_fn = (\n",
    "                    torch.nn.MSELoss()\n",
    "                )  # Update the current state to the next state\n",
    "                q_loss = q_loss_fn(qs, y_target.mean(dim=1, keepdim=True))\n",
    "                q_optim.step()\n",
    "                for p in q_net.parameters():\n",
    "                    p.requires_grad = True\n",
    "\n",
    "                # Update Actor Network\n",
    "                actor_optim.zero_grad()\n",
    "                actor_loss = -q_net(states, pred_actions.detach())\n",
    "                actor_loss.mean().backward(retain_graph=True)\n",
    "                actor_optim.step()\n",
    "                for p in actor_net.parameters():\n",
    "                    p.requires_grad = True\n",
    "\n",
    "                # Update target networks\n",
    "                update_target_nets(\n",
    "                    q_net=q_net,\n",
    "                    q_target=q_target,\n",
    "                    actor_net=actor_net,\n",
    "                    actor_target=actor_target,\n",
    "                    tau=tau,\n",
    "                )\n",
    "\n",
    "                history.append(\n",
    "                    (\n",
    "                        q_loss.detach().mean().cpu(),\n",
    "                        actor_loss.detach().mean().cpu(),\n",
    "                        rewards.detach().mean().cpu(),\n",
    "                    )\n",
    "                )\n",
    "\n",
    "                # Update the live display logger\n",
    "                live.update(\n",
    "                    create_table(\n",
    "                        episode=episode,\n",
    "                        t=t,\n",
    "                        # q=qs.detach().mean().cpu(),\n",
    "                        u=action[env.action_key],\n",
    "                        r=reward.mean(),\n",
    "                        l_actor=q_loss.detach().mean(),\n",
    "                        l_critic=actor_loss.detach().mean(),\n",
    "                        noise=noise,\n",
    "                    )\n",
    "                )\n",
    "            else:\n",
    "                live.update(\n",
    "                    create_table(\n",
    "                        episode=episode,\n",
    "                        t=t,\n",
    "                        u=action[env.action_key],\n",
    "                        r=reward.mean(),\n",
    "                        noise=noise,\n",
    "                    )\n",
    "                )\n",
    "                history.append((0, 0, reward.detach().mean().cpu()))"
   ]
  },
  {
   "cell_type": "code",
   "execution_count": 19,
   "metadata": {},
   "outputs": [
    {
     "data": {
      "image/png": "[encoded data removed]",
      "text/plain": [
       "<Figure size 640x480 with 2525 Axes>"
      ]
     },
     "metadata": {},
     "output_type": "display_data"
    }
   ],
   "source": [
    "history = np.array(history).T\n",
    "fig, ax = plt.subplots(nrows=history.shape[0], ncols=1)\n",
    "window_size = 250\n",
    "\n",
    "\n",
    "for ax_, title, hist in zip(ax, [\"Q Net Loss\", \"Actor Net Loss\", \"Rewards\"], history):\n",
    "    ax_.set_title(title)\n",
    "    ax_.plot(hist)\n",
    "    ax_.plot(np.convolve(hist, np.ones(window_size) / window_size, mode=\"valid\"))"
   ]
  },
  {
   "cell_type": "code",
   "execution_count": 20,
   "metadata": {},
   "outputs": [
    {
     "data": {
      "text/plain": [
       "array([-0.6481005 , -0.80726782, -0.86253786, ...,  1.56628715,\n",
       "        1.66019973,  1.27727104])"
      ]
     },
     "execution_count": 20,
     "metadata": {},
     "output_type": "execute_result"
    }
   ],
   "source": [
    "history.mean(axis=1)"
   ]
  },
  {
   "cell_type": "code",
   "execution_count": null,
   "metadata": {},
   "outputs": [
    {
     "data": {
      "text/plain": [
       "[<matplotlib.lines.Line2D at 0x756f82160920>]"
      ]
     },
     "execution_count": 18,
     "metadata": {},
     "output_type": "execute_result"
    },
    {
     "data": {
      "image/png": "[encoded data removed]",
      "text/plain": [
       "<Figure size 640x480 with 1 Axes>"
      ]
     },
     "metadata": {},
     "output_type": "display_data"
    }
   ],
   "source": [
    "plt.xlabel(\"t\")\n",
    "plt.ylabel(\"Rewards\")\n",
    "plt.title(\"Training Results\")\n",
    "plt.plot(history[2])\n",
    "plt.plot(np.convolve(history[2], np.ones(200) / 200))"
   ]
  },
  {
   "cell_type": "code",
   "execution_count": null,
   "metadata": {},
   "outputs": [
    {
     "data": {
      "text/plain": [
       "(tensor([0.5430, 0.7232, 1.3133], device='cuda:0'),\n",
       " tensor(-0.2000, device='cuda:0'))"
      ]
     },
     "execution_count": 15,
     "metadata": {},
     "output_type": "execute_result"
    }
   ],
   "source": [
    "ball_pos = env.world.ball.state.pos\n",
    "agent_pos = torch.cat([agent.state.pos for agent in env.world.policy_agents], dim=0)\n",
    "agent_ball_dists = torch.norm(agent_pos - ball_pos, dim=1)\n",
    "dist_reward_max = 2.0\n",
    "dist_reward = -torch.log(\n",
    "    dist_reward_max * agent_ball_dists.min() + np.exp(-dist_reward_max)\n",
    ")\n",
    "\n",
    "agent_ball_dists, dist_reward"
   ]
  },
  {
   "cell_type": "code",
   "execution_count": null,
   "metadata": {},
   "outputs": [
    {
     "data": {
      "text/plain": [
       "(0.25, 0.25, 0.75)"
      ]
     },
     "execution_count": 23,
     "metadata": {},
     "output_type": "execute_result"
    }
   ],
   "source": [
    "env.world.policy_agents[0].color"
   ]
  }
 ],
 "metadata": {
  "kernelspec": {
   "display_name": "Python 3 (ipykernel)",
   "language": "python",
   "name": "python3"
  },
  "language_info": {
   "codemirror_mode": {
    "name": "ipython",
    "version": 3
   },
   "file_extension": ".py",
   "mimetype": "text/x-python",
   "name": "python",
   "nbconvert_exporter": "python",
   "pygments_lexer": "ipython3",
   "version": "3.12.5"
  }
 },
 "nbformat": 4,
 "nbformat_minor": 4
}
