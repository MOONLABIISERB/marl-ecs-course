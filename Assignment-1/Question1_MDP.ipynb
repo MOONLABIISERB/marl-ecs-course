{
 "cells": [
  {
   "cell_type": "code",
   "execution_count": 1,
   "metadata": {},
   "outputs": [],
   "source": [
    "import numpy as np"
   ]
  },
  {
   "cell_type": "markdown",
   "metadata": {},
   "source": [
    "\n",
    "Defining MDP Components"
   ]
  },
  {
   "cell_type": "code",
   "execution_count": 3,
   "metadata": {},
   "outputs": [],
   "source": [
    "# Define the states\n",
    "states = ['Hostel', 'Academic Building', 'Canteen']\n",
    "\n",
    "# Define the actions\n",
    "actions = ['Attend Classes', 'Eat Food']\n",
    "\n",
    "# Define the rewards\n",
    "rewards = {\n",
    "    'Hostel': -1,\n",
    "    'Academic Building': 3,\n",
    "    'Canteen': 1\n",
    "}\n",
    "\n",
    "# Define the transition probabilities as a dictionary\n",
    "# P(s'|s,a)\n",
    "transition_probabilities = {\n",
    "    'Hostel': {\n",
    "        'Attend Classes': {'Hostel': 0.5, 'Academic Building': 0.5},\n",
    "        'Eat Food': {'Canteen': 1.0}\n",
    "    },\n",
    "    'Academic Building': {\n",
    "        'Attend Classes': {'Academic Building': 0.7, 'Canteen': 0.3},\n",
    "        'Eat Food': {'Canteen': 0.8, 'Academic Building': 0.2}\n",
    "    },\n",
    "    'Canteen': {\n",
    "        'Attend Classes': {'Academic Building': 0.6, 'Hostel': 0.3, 'Canteen': 0.1},\n",
    "        'Eat Food': {'Canteen': 1.0}\n",
    "    }\n",
    "}\n",
    "\n",
    "# Discount factor\n",
    "gamma = 0.9"
   ]
  },
  {
   "cell_type": "markdown",
   "metadata": {},
   "source": [
    "Implementing Value Iteration"
   ]
  },
  {
   "cell_type": "code",
   "execution_count": 4,
   "metadata": {},
   "outputs": [],
   "source": [
    "def value_iteration(states, actions, rewards, transition_probabilities, gamma=0.9, theta=1e-6):\n",
    "    # Initialize value function for each state\n",
    "    V = {s: 0 for s in states}\n",
    "    \n",
    "    while True:\n",
    "        delta = 0\n",
    "        # Loop over all states\n",
    "        for s in states:\n",
    "            v = V[s]\n",
    "            # Update the value of state s\n",
    "            V[s] = max(sum(transition_probabilities[s][a][s_prime] * \n",
    "                           (rewards[s_prime] + gamma * V[s_prime])\n",
    "                           for s_prime in transition_probabilities[s][a])\n",
    "                       for a in actions)\n",
    "            # Check for convergence\n",
    "            delta = max(delta, abs(v - V[s]))\n",
    "        \n",
    "        # If the change in value function is less than theta, break\n",
    "        if delta < theta:\n",
    "            break\n",
    "    \n",
    "    # Derive the policy\n",
    "    policy = {}\n",
    "    for s in states:\n",
    "        best_action = None\n",
    "        best_value = float('-inf')\n",
    "        \n",
    "        for a in actions:\n",
    "            action_value = sum(transition_probabilities[s][a][s_prime] * \n",
    "                               (rewards[s_prime] + gamma * V[s_prime])\n",
    "                               for s_prime in transition_probabilities[s][a])\n",
    "            if action_value > best_value:\n",
    "                best_value = action_value\n",
    "                best_action = a\n",
    "                \n",
    "        policy[s] = best_action\n",
    "        \n",
    "    return V, policy\n"
   ]
  },
  {
   "cell_type": "code",
   "execution_count": 5,
   "metadata": {},
   "outputs": [],
   "source": [
    "# Run value iteration\n",
    "V, policy = value_iteration(states, actions, rewards, transition_probabilities, gamma)\n"
   ]
  },
  {
   "cell_type": "code",
   "execution_count": 8,
   "metadata": {},
   "outputs": [
    {
     "name": "stdout",
     "output_type": "stream",
     "text": [
      "Optimal Value Function:\n",
      "V(Hostel) = 18.95\n",
      "V(Academic Building) = 20.94\n",
      "V(Canteen) = 19.81\n"
     ]
    }
   ],
   "source": [
    "print(\"Optimal Value Function:\")\n",
    "for s in V:\n",
    "    print(f\"V({s}) = {V[s]:.2f}\")"
   ]
  },
  {
   "cell_type": "code",
   "execution_count": 9,
   "metadata": {},
   "outputs": [
    {
     "name": "stdout",
     "output_type": "stream",
     "text": [
      "\n",
      "Optimal Policy:\n",
      "π(Hostel) = Attend Classes\n",
      "π(Academic Building) = Attend Classes\n",
      "π(Canteen) = Attend Classes\n"
     ]
    }
   ],
   "source": [
    "print(\"\\nOptimal Policy:\")\n",
    "for s in policy:\n",
    "    print(f\"π({s}) = {policy[s]}\")"
   ]
  },
  {
   "cell_type": "markdown",
   "metadata": {},
   "source": [
    "Implementing Policy Iteration"
   ]
  },
  {
   "cell_type": "code",
   "execution_count": 10,
   "metadata": {},
   "outputs": [],
   "source": [
    "def policy_evaluation(policy, states, actions, rewards, transition_probabilities, gamma=0.9, theta=1e-6):\n",
    "    # Initialize value function for each state\n",
    "    V = {s: 0 for s in states}\n",
    "    \n",
    "    while True:\n",
    "        delta = 0\n",
    "        # Loop over all states\n",
    "        for s in states:\n",
    "            v = V[s]\n",
    "            # Update the value of state s using the policy\n",
    "            a = policy[s]\n",
    "            V[s] = sum(transition_probabilities[s][a][s_prime] * \n",
    "                       (rewards[s_prime] + gamma * V[s_prime])\n",
    "                       for s_prime in transition_probabilities[s][a])\n",
    "            # Check for convergence\n",
    "            delta = max(delta, abs(v - V[s]))\n",
    "        \n",
    "        # If the change in value function is less than theta, break\n",
    "        if delta < theta:\n",
    "            break\n",
    "    \n",
    "    return V"
   ]
  },
  {
   "cell_type": "code",
   "execution_count": 11,
   "metadata": {},
   "outputs": [],
   "source": [
    "def policy_iteration(states, actions, rewards, transition_probabilities, gamma=0.9):\n",
    "    # Initialize a random policy\n",
    "    policy = {s: np.random.choice(actions) for s in states}\n",
    "    \n",
    "    while True:\n",
    "        # Policy Evaluation\n",
    "        V = policy_evaluation(policy, states, actions, rewards, transition_probabilities, gamma)\n",
    "        \n",
    "        policy_stable = True\n",
    "        \n",
    "        # Policy Improvement\n",
    "        for s in states:\n",
    "            old_action = policy[s]\n",
    "            \n",
    "            best_action = None\n",
    "            best_value = float('-inf')\n",
    "            \n",
    "            for a in actions:\n",
    "                action_value = sum(transition_probabilities[s][a][s_prime] * \n",
    "                                   (rewards[s_prime] + gamma * V[s_prime])\n",
    "                                   for s_prime in transition_probabilities[s][a])\n",
    "                if action_value > best_value:\n",
    "                    best_value = action_value\n",
    "                    best_action = a\n",
    "            \n",
    "            policy[s] = best_action\n",
    "            \n",
    "            if old_action != best_action:\n",
    "                policy_stable = True\n",
    "        \n",
    "        if policy_stable:\n",
    "            break\n",
    "    \n",
    "    return V, policy"
   ]
  },
  {
   "cell_type": "code",
   "execution_count": 12,
   "metadata": {},
   "outputs": [],
   "source": [
    "# Run policy iteration\n",
    "V_policy, policy = policy_iteration(states, actions, rewards, transition_probabilities, gamma)\n"
   ]
  },
  {
   "cell_type": "code",
   "execution_count": 13,
   "metadata": {},
   "outputs": [
    {
     "name": "stdout",
     "output_type": "stream",
     "text": [
      "Optimal Value Function (Policy Iteration):\n",
      "V(Hostel) = 10.00\n",
      "V(Academic Building) = 13.78\n",
      "V(Canteen) = 10.00\n"
     ]
    }
   ],
   "source": [
    "print(\"Optimal Value Function (Policy Iteration):\")\n",
    "for s in V_policy:\n",
    "    print(f\"V({s}) = {V_policy[s]:.2f}\")"
   ]
  },
  {
   "cell_type": "code",
   "execution_count": 14,
   "metadata": {},
   "outputs": [
    {
     "name": "stdout",
     "output_type": "stream",
     "text": [
      "\n",
      "Optimal Policy (Policy Iteration):\n",
      "π(Hostel) = Attend Classes\n",
      "π(Academic Building) = Attend Classes\n",
      "π(Canteen) = Attend Classes\n"
     ]
    }
   ],
   "source": [
    "print(\"\\nOptimal Policy (Policy Iteration):\")\n",
    "for s in policy:\n",
    "    print(f\"π({s}) = {policy[s]}\")"
   ]
  },
  {
   "cell_type": "code",
   "execution_count": null,
   "metadata": {},
   "outputs": [],
   "source": []
  }
 ],
 "metadata": {
  "kernelspec": {
   "display_name": "RL",
   "language": "python",
   "name": "python3"
  },
  "language_info": {
   "codemirror_mode": {
    "name": "ipython",
    "version": 3
   },
   "file_extension": ".py",
   "mimetype": "text/x-python",
   "name": "python",
   "nbconvert_exporter": "python",
   "pygments_lexer": "ipython3",
   "version": "3.8.19"
  }
 },
 "nbformat": 4,
 "nbformat_minor": 2
}
